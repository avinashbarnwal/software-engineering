{
 "cells": [
  {
   "cell_type": "code",
   "execution_count": 1,
   "metadata": {},
   "outputs": [],
   "source": [
    "class min_stack:\n",
    "    def __init__(self):\n",
    "        self.stack =[]\n",
    "        self.minstack = []\n",
    "        \n",
    "    def push(self,item):\n",
    "        self.stack.append(item)\n",
    "        if len(self.minstack) ==0 or self.getmin() > item:\n",
    "            self.minstack.append(item)\n",
    "            \n",
    "    def getmin(self):\n",
    "        if len(self.minstack) >0:\n",
    "            return self.minstack[-1]\n",
    "        else:\n",
    "            print(\"No Element\")\n",
    "            return \n",
    "    def pop(self):\n",
    "        if len(self.stack) >0:\n",
    "            x = self.stack.pop()\n",
    "            if self.getmin() == x:\n",
    "                self.minstack.pop()\n",
    "            return x    \n",
    "        else:\n",
    "            print(\"No Element\")\n",
    "            return \n",
    "            "
   ]
  },
  {
   "cell_type": "code",
   "execution_count": 7,
   "metadata": {},
   "outputs": [
    {
     "data": {
      "text/plain": [
       "2"
      ]
     },
     "execution_count": 7,
     "metadata": {},
     "output_type": "execute_result"
    }
   ],
   "source": [
    "stack = min_stack()\n",
    "stack.push(10)\n",
    "stack.push(2)\n",
    "stack.push(1)\n",
    "stack.getmin()\n",
    "stack.pop()\n",
    "stack.getmin()"
   ]
  }
 ],
 "metadata": {
  "kernelspec": {
   "display_name": "Python 3",
   "language": "python",
   "name": "python3"
  },
  "language_info": {
   "codemirror_mode": {
    "name": "ipython",
    "version": 3
   },
   "file_extension": ".py",
   "mimetype": "text/x-python",
   "name": "python",
   "nbconvert_exporter": "python",
   "pygments_lexer": "ipython3",
   "version": "3.7.3"
  }
 },
 "nbformat": 4,
 "nbformat_minor": 2
}
