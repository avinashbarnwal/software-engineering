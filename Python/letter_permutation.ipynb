{
 "cells": [
  {
   "cell_type": "code",
   "execution_count": 42,
   "metadata": {},
   "outputs": [],
   "source": [
    "##Logic We need to maintain the tree for newly permutation\n",
    "\n",
    "##a1b2 - There are two trees one a1b2\n",
    "\n",
    "class Solution(object):\n",
    "    \n",
    "    def rec(self, S, i, len_s, li):\n",
    "        if i > len_s - 1:\n",
    "            return\n",
    "        if S[i].isalpha():\n",
    "            S1 = S[:i] + S[i].swapcase() + S[i+1:]\n",
    "            li.append(S1)\n",
    "            self.rec(S1, i+1, len_s, li) \n",
    "        self.rec(S, i+1, len_s, li)    \n",
    "        return\n",
    "           \n",
    "    def letterCasePermutation(self, S):\n",
    "        \"\"\"\n",
    "        :type S: str\n",
    "        :rtype: List[str]\n",
    "        \"\"\"\n",
    "        \n",
    "        li = [S]\n",
    "        self.rec(S, 0, len(S), li)\n",
    "        \n",
    "        return list(li)"
   ]
  },
  {
   "cell_type": "code",
   "execution_count": 43,
   "metadata": {},
   "outputs": [
    {
     "name": "stdout",
     "output_type": "stream",
     "text": [
      "0\n",
      "A1b2\n",
      "1\n",
      "2\n",
      "A1B2\n",
      "3\n",
      "4\n",
      "3\n",
      "4\n",
      "1\n",
      "2\n",
      "a1B2\n",
      "3\n",
      "4\n",
      "3\n",
      "4\n"
     ]
    },
    {
     "data": {
      "text/plain": [
       "['a1b2', 'A1b2', 'A1B2', 'a1B2']"
      ]
     },
     "execution_count": 43,
     "metadata": {},
     "output_type": "execute_result"
    }
   ],
   "source": [
    "S   = \"a1b2\"\n",
    "new = Solution()\n",
    "new.letterCasePermutation(S)"
   ]
  }
 ],
 "metadata": {
  "kernelspec": {
   "display_name": "Python 3",
   "language": "python",
   "name": "python3"
  },
  "language_info": {
   "codemirror_mode": {
    "name": "ipython",
    "version": 3
   },
   "file_extension": ".py",
   "mimetype": "text/x-python",
   "name": "python",
   "nbconvert_exporter": "python",
   "pygments_lexer": "ipython3",
   "version": "3.7.3"
  }
 },
 "nbformat": 4,
 "nbformat_minor": 2
}
