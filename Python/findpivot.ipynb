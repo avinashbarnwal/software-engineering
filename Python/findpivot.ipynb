{
 "cells": [
  {
   "cell_type": "code",
   "execution_count": 1,
   "metadata": {},
   "outputs": [],
   "source": [
    "def findPivot(arr, l, r):\n",
    "    while l <= r:\n",
    "        mid = (l+r)//2\n",
    "        if mid < r and arr[mid] > arr[mid+1]:\n",
    "            return mid\n",
    "        if mid > l and arr[mid] < arr[mid-1]:\n",
    "            return mid - 1\n",
    "        if arr[l] >= arr[mid]:\n",
    "            r = mid - 1\n",
    "        else:\n",
    "            l = mid + 1\n",
    "    return -1"
   ]
  },
  {
   "cell_type": "code",
   "execution_count": 2,
   "metadata": {},
   "outputs": [
    {
     "data": {
      "text/plain": [
       "-1"
      ]
     },
     "execution_count": 2,
     "metadata": {},
     "output_type": "execute_result"
    }
   ],
   "source": [
    "arr  = [1,2,3]\n",
    "high = len(arr)-1\n",
    "findPivot(arr,0,high)"
   ]
  }
 ],
 "metadata": {
  "kernelspec": {
   "display_name": "Python 3",
   "language": "python",
   "name": "python3"
  },
  "language_info": {
   "codemirror_mode": {
    "name": "ipython",
    "version": 3
   },
   "file_extension": ".py",
   "mimetype": "text/x-python",
   "name": "python",
   "nbconvert_exporter": "python",
   "pygments_lexer": "ipython3",
   "version": "3.7.3"
  }
 },
 "nbformat": 4,
 "nbformat_minor": 2
}
