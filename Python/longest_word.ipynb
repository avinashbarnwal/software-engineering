{
 "cells": [
  {
   "cell_type": "code",
   "execution_count": 42,
   "metadata": {},
   "outputs": [],
   "source": [
    "words = [\"a\", \"banana\", \"app\", \"appl\", \"ap\", \"apply\", \"apple\"]\n",
    "\n",
    "p_word_dict = []\n",
    "for word in words:\n",
    "    if all(word[:k] in words for k in range(1,len(word)+1)):\n",
    "        p_word_dict.append(word)\n",
    "                \n",
    "p_word_dict_len = list(map(lambda x : len(x),p_word_dict)) "
   ]
  },
  {
   "cell_type": "code",
   "execution_count": 21,
   "metadata": {},
   "outputs": [],
   "source": [
    "max_list = []\n",
    "max_arg  = []\n",
    "n = len(p_word_dict_len)\n",
    "\n",
    "for i in range(n):\n",
    "    if len(max_arg) == 0:\n",
    "        max_arg.append(i)\n",
    "        max_list.append(p_word_dict_len[i])\n",
    "    else:\n",
    "        if max_list[-1] == p_word_dict_len[i]:\n",
    "            max_arg.append(i)\n",
    "            max_list.append(p_word_dict_len[i])\n",
    "        elif max_list[-1] < p_word_dict_len[i]:\n",
    "            max_arg  = []\n",
    "            max_list = []\n",
    "            max_list.append(p_word_dict_len[i])\n",
    "            max_arg.append(i)"
   ]
  },
  {
   "cell_type": "code",
   "execution_count": 33,
   "metadata": {},
   "outputs": [],
   "source": [
    "selected_words = [p_word_dict[i] for i in max_arg]"
   ]
  },
  {
   "cell_type": "code",
   "execution_count": 37,
   "metadata": {},
   "outputs": [
    {
     "data": {
      "text/plain": [
       "['apple', 'apply']"
      ]
     },
     "execution_count": 37,
     "metadata": {},
     "output_type": "execute_result"
    }
   ],
   "source": [
    "selected_words"
   ]
  }
 ],
 "metadata": {
  "kernelspec": {
   "display_name": "Python 3",
   "language": "python",
   "name": "python3"
  },
  "language_info": {
   "codemirror_mode": {
    "name": "ipython",
    "version": 3
   },
   "file_extension": ".py",
   "mimetype": "text/x-python",
   "name": "python",
   "nbconvert_exporter": "python",
   "pygments_lexer": "ipython3",
   "version": "3.6.5"
  }
 },
 "nbformat": 4,
 "nbformat_minor": 2
}
