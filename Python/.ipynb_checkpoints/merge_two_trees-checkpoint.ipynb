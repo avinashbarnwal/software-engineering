{
 "cells": [
  {
   "cell_type": "code",
   "execution_count": 4,
   "metadata": {},
   "outputs": [],
   "source": [
    "from trees import Tree\n",
    "\n",
    "class solution:\n",
    "    \n",
    "    def __init__(self,T1,T2):\n",
    "        self.Tree1 = T1\n",
    "        self.Tree2 = T2\n",
    "    \n",
    "    def merge(self,Node1,Node2):\n",
    "        if Node1 \n",
    "\n",
    "T1 = Tree()\n",
    "\n",
    "T1.add(2)\n",
    "T1.add(3)\n",
    "T1.add(5)\n",
    "T1.add(10)\n",
    "\n",
    "T2 = Tree()\n",
    "\n",
    "\n"
   ]
  }
 ],
 "metadata": {
  "kernelspec": {
   "display_name": "Python 3",
   "language": "python",
   "name": "python3"
  },
  "language_info": {
   "codemirror_mode": {
    "name": "ipython",
    "version": 3
   },
   "file_extension": ".py",
   "mimetype": "text/x-python",
   "name": "python",
   "nbconvert_exporter": "python",
   "pygments_lexer": "ipython3",
   "version": "3.7.3"
  }
 },
 "nbformat": 4,
 "nbformat_minor": 2
}
