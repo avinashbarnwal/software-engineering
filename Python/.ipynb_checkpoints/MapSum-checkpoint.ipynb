{
 "cells": [
  {
   "cell_type": "code",
   "execution_count": null,
   "metadata": {},
   "outputs": [],
   "source": [
    "class MapSum:\n",
    "\n",
    "    def __init__(self):\n",
    "        \"\"\"\n",
    "        Initialize your data structure here.\n",
    "        \"\"\"\n",
    "        self.maps = {}\n",
    "\n",
    "    def insert(self, key, val):\n",
    "        \"\"\"\n",
    "        :type key: str\n",
    "        :type val: int\n",
    "        :rtype: void\n",
    "        \"\"\"\n",
    "        self.maps[key]=val\n",
    "        \n",
    "\n",
    "    def sum(self, prefix):\n",
    "        \"\"\"\n",
    "        :type prefix: str\n",
    "        :rtype: int\n",
    "        \"\"\"\n",
    "        sum_product = 0\n",
    "        n   = len(prefix)\n",
    "        for i in self.maps.keys():\n",
    "            if i[:n]==prefix:\n",
    "                sum_product += self.maps[i]\n",
    "        return sum_product        \n",
    "                \n",
    "        \n",
    "\n",
    "\n",
    "# Your MapSum object will be instantiated and called as such:\n",
    "# obj = MapSum()\n",
    "# obj.insert(key,val)\n",
    "# param_2 = obj.sum(prefix)"
   ]
  }
 ],
 "metadata": {
  "kernelspec": {
   "display_name": "Python 3",
   "language": "python",
   "name": "python3"
  },
  "language_info": {
   "codemirror_mode": {
    "name": "ipython",
    "version": 3
   },
   "file_extension": ".py",
   "mimetype": "text/x-python",
   "name": "python",
   "nbconvert_exporter": "python",
   "pygments_lexer": "ipython3",
   "version": "3.7.3"
  }
 },
 "nbformat": 4,
 "nbformat_minor": 2
}
