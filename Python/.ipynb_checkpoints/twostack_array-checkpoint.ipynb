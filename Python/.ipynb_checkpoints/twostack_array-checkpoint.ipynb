{
 "cells": [
  {
   "cell_type": "code",
   "execution_count": 2,
   "metadata": {},
   "outputs": [],
   "source": [
    "class twoStackarray:\n",
    "    def __init__(self,n):\n",
    "        self.array = [None]*n\n",
    "        self.top1 = -1\n",
    "        self.top2 = n\n",
    "        self.size = n\n",
    "        \n",
    "    def push1(self,item):\n",
    "        if self.top1 < self.top2:\n",
    "            self.top1 = self.top1 + 1\n",
    "            self.array[self.top] = item\n",
    "            \n",
    "        else :\n",
    "            print(\"Stack is already full\")\n",
    "    \n",
    "    def push2(self,item):\n",
    "        if self.top1 < self.top2:\n",
    "            self.top2 = self.top2 - 1\n",
    "            self.array[self.top2] = item\n",
    "        else :\n",
    "            print(\"Stack is already full\")\n",
    "            \n",
    "    def pop1(self):\n",
    "        if self.top1>=0:\n",
    "            x = self.array[self.top1]\n",
    "            self.top1 = self.top1 - 1\n",
    "            return x\n",
    "        else:\n",
    "            print(\"Stack Underflow\")\n",
    "            return \n",
    "        \n",
    "    def pop2(self):\n",
    "        if self.top2 < self.size:\n",
    "            x = self.array[self.top2]\n",
    "            self.top2 = self.top2 - 1\n",
    "            return x\n",
    "        else :\n",
    "            print(\"Stack Underflow\")\n",
    "            return \n",
    "            \n",
    "            \n",
    "            \n",
    "        "
   ]
  },
  {
   "cell_type": "code",
   "execution_count": 3,
   "metadata": {},
   "outputs": [],
   "source": [
    "first = twoStackarray(10)"
   ]
  }
 ],
 "metadata": {
  "kernelspec": {
   "display_name": "Python 3",
   "language": "python",
   "name": "python3"
  },
  "language_info": {
   "codemirror_mode": {
    "name": "ipython",
    "version": 3
   },
   "file_extension": ".py",
   "mimetype": "text/x-python",
   "name": "python",
   "nbconvert_exporter": "python",
   "pygments_lexer": "ipython3",
   "version": "3.7.3"
  }
 },
 "nbformat": 4,
 "nbformat_minor": 2
}
