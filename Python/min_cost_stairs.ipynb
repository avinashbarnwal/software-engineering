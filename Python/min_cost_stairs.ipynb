{
 "cells": [
  {
   "cell_type": "code",
   "execution_count": 5,
   "metadata": {},
   "outputs": [
    {
     "ename": "SyntaxError",
     "evalue": "'return' outside function (<ipython-input-5-cee0b11f46c2>, line 8)",
     "output_type": "error",
     "traceback": [
      "\u001b[0;36m  File \u001b[0;32m\"<ipython-input-5-cee0b11f46c2>\"\u001b[0;36m, line \u001b[0;32m8\u001b[0m\n\u001b[0;31m    return min_cost[-1]\u001b[0m\n\u001b[0m                       ^\u001b[0m\n\u001b[0;31mSyntaxError\u001b[0m\u001b[0;31m:\u001b[0m 'return' outside function\n"
     ]
    }
   ],
   "source": [
    "cost = [10, 15, 20]\n",
    "n = len(cost)\n",
    "min_cost = [0]*(n+1)\n",
    "\n",
    "for i in range(2,n+1):\n",
    "    min_cost[i] = min(cost[i-1]+min_cost[i-1],cost[i-2]+min_cost[i-2]) \n",
    "    \n",
    "min_cost[-1]"
   ]
  }
 ],
 "metadata": {
  "kernelspec": {
   "display_name": "Python 3",
   "language": "python",
   "name": "python3"
  },
  "language_info": {
   "codemirror_mode": {
    "name": "ipython",
    "version": 3
   },
   "file_extension": ".py",
   "mimetype": "text/x-python",
   "name": "python",
   "nbconvert_exporter": "python",
   "pygments_lexer": "ipython3",
   "version": "3.7.3"
  }
 },
 "nbformat": 4,
 "nbformat_minor": 2
}
