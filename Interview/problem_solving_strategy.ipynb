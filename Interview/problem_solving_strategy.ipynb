{
 "cells": [
  {
   "cell_type": "markdown",
   "metadata": {},
   "source": [
    "# Strategy to solve problems"
   ]
  },
  {
   "cell_type": "markdown",
   "metadata": {},
   "source": [
    "- APPROACH I: EXAMPLIFY\n",
    "- APPROACH II: PATTERN MATCHING\n",
    "- APPROACH III: SIMPLIFY & GENERALIZE\n",
    "- APPROACH IV: BASE CASE AND BUILD\n",
    "- APPROACH V: DATA STRUCTURE BRAINSTORM"
   ]
  }
 ],
 "metadata": {
  "kernelspec": {
   "display_name": "Python 3",
   "language": "python",
   "name": "python3"
  },
  "language_info": {
   "codemirror_mode": {
    "name": "ipython",
    "version": 3
   },
   "file_extension": ".py",
   "mimetype": "text/x-python",
   "name": "python",
   "nbconvert_exporter": "python",
   "pygments_lexer": "ipython3",
   "version": "3.7.4"
  }
 },
 "nbformat": 4,
 "nbformat_minor": 4
}
