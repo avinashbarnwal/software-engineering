{
 "cells": [
  {
   "cell_type": "code",
   "execution_count": 7,
   "metadata": {},
   "outputs": [],
   "source": [
    "import collections"
   ]
  },
  {
   "cell_type": "code",
   "execution_count": 27,
   "metadata": {},
   "outputs": [],
   "source": [
    "class Solution(object):\n",
    "    def findLadders(self, beginWord, endWord, wordList):\n",
    "\n",
    "        wordList = set(wordList)\n",
    "        res      = []\n",
    "        layer    = {}\n",
    "        layer[beginWord] = [[beginWord]]\n",
    "\n",
    "        while layer:\n",
    "            newlayer = collections.defaultdict(list)\n",
    "            for w in layer:\n",
    "                if w == endWord: \n",
    "                    res.extend(k for k in layer[w])\n",
    "                else:\n",
    "                    for i in range(len(w)):\n",
    "                        for c in 'abcdefghijklmnopqrstuvwxyz':\n",
    "                            neww = w[:i]+c+w[i+1:]\n",
    "                            if neww in wordList:\n",
    "                                newlayer[neww]+=[j+[neww] for j in layer[w]]\n",
    "                                print(newlayer)\n",
    "            wordList -= set(newlayer.keys())\n",
    "            layer = newlayer\n",
    "        return res"
   ]
  },
  {
   "cell_type": "code",
   "execution_count": 28,
   "metadata": {},
   "outputs": [],
   "source": [
    "beginWord = \"hit\"\n",
    "endWord = \"cog\"\n",
    "wordList = [\"hot\",\"dot\",\"dog\",\"lot\",\"log\",\"cog\"]"
   ]
  },
  {
   "cell_type": "code",
   "execution_count": 29,
   "metadata": {},
   "outputs": [
    {
     "name": "stdout",
     "output_type": "stream",
     "text": [
      "defaultdict(<class 'list'>, {'hot': [['hit', 'hot']]})\n",
      "defaultdict(<class 'list'>, {'dot': [['hit', 'hot', 'dot']]})\n",
      "defaultdict(<class 'list'>, {'dot': [['hit', 'hot', 'dot']], 'lot': [['hit', 'hot', 'lot']]})\n",
      "defaultdict(<class 'list'>, {'dog': [['hit', 'hot', 'dot', 'dog']]})\n",
      "defaultdict(<class 'list'>, {'dog': [['hit', 'hot', 'dot', 'dog']], 'log': [['hit', 'hot', 'lot', 'log']]})\n",
      "defaultdict(<class 'list'>, {'cog': [['hit', 'hot', 'dot', 'dog', 'cog']]})\n",
      "defaultdict(<class 'list'>, {'cog': [['hit', 'hot', 'dot', 'dog', 'cog'], ['hit', 'hot', 'lot', 'log', 'cog']]})\n"
     ]
    },
    {
     "data": {
      "text/plain": [
       "[['hit', 'hot', 'dot', 'dog', 'cog'], ['hit', 'hot', 'lot', 'log', 'cog']]"
      ]
     },
     "execution_count": 29,
     "metadata": {},
     "output_type": "execute_result"
    }
   ],
   "source": [
    "soln = Solution()\n",
    "soln.findLadders(beginWord,endWord,wordList)"
   ]
  }
 ],
 "metadata": {
  "kernelspec": {
   "display_name": "Python 3",
   "language": "python",
   "name": "python3"
  },
  "language_info": {
   "codemirror_mode": {
    "name": "ipython",
    "version": 3
   },
   "file_extension": ".py",
   "mimetype": "text/x-python",
   "name": "python",
   "nbconvert_exporter": "python",
   "pygments_lexer": "ipython3",
   "version": "3.7.4"
  }
 },
 "nbformat": 4,
 "nbformat_minor": 4
}
