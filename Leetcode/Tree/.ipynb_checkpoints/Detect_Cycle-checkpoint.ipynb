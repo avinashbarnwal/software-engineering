{
 "cells": [
  {
   "cell_type": "code",
   "execution_count": 1,
   "metadata": {},
   "outputs": [],
   "source": [
    "from collections import defaultdict"
   ]
  },
  {
   "cell_type": "code",
   "execution_count": 43,
   "metadata": {},
   "outputs": [],
   "source": [
    "class Graph():\n",
    "    \n",
    "    def __init__(self,vertices):\n",
    "        self.graph  = defaultdict(list)\n",
    "        self.V = vertices\n",
    "    \n",
    "    def addEdge(self,u,v):\n",
    "        self.graph[u].append(v)\n",
    "    \n",
    "    def isCyclicUtil(self,v,visited,recStack):\n",
    "        \n",
    "        \n",
    "        visited[v]  = True\n",
    "        recStack[v] = True\n",
    "        \n",
    "        for neighbor in self.graph[v]:\n",
    "            if visited[neighbor]==False:\n",
    "                if self.isCyclicUtil(neighbor,visited,recStack)==True:\n",
    "                    return True\n",
    "            elif recStack[neighbor]==True:\n",
    "                return True\n",
    "        recStack[v] = False\n",
    "        return False\n",
    "    \n",
    "    def isCyclic(self):\n",
    "        \n",
    "        visited  = [False]*self.V\n",
    "        recStack = [False]*self.V\n",
    "\n",
    "        for node in range(self.V):\n",
    "            print(node)\n",
    "            print(visited)\n",
    "            if visited[node]==False:\n",
    "                if self.isCyclicUtil(node,visited,recStack)==True:\n",
    "                    return True\n",
    "        return False"
   ]
  },
  {
   "cell_type": "code",
   "execution_count": 44,
   "metadata": {},
   "outputs": [],
   "source": [
    "g = Graph(5)"
   ]
  },
  {
   "cell_type": "code",
   "execution_count": 45,
   "metadata": {},
   "outputs": [],
   "source": [
    "g.addEdge(0, 4)\n",
    "g.addEdge(1, 2)\n",
    "g.addEdge(3, 1) \n",
    "g.addEdge(2, 0) \n",
    "g.addEdge(2, 3) \n",
    "g.addEdge(3, 3) "
   ]
  },
  {
   "cell_type": "code",
   "execution_count": 46,
   "metadata": {},
   "outputs": [
    {
     "name": "stdout",
     "output_type": "stream",
     "text": [
      "0\n",
      "[False, False, False, False, False]\n",
      "1\n",
      "[True, False, False, False, True]\n"
     ]
    },
    {
     "data": {
      "text/plain": [
       "True"
      ]
     },
     "execution_count": 46,
     "metadata": {},
     "output_type": "execute_result"
    }
   ],
   "source": [
    "g.isCyclic()"
   ]
  },
  {
   "cell_type": "code",
   "execution_count": 49,
   "metadata": {},
   "outputs": [],
   "source": [
    "def changeDetectUtil(input_list):\n",
    "    input_list[0] = 1\n",
    "    input_list[1] = 2\n",
    "    return"
   ]
  },
  {
   "cell_type": "code",
   "execution_count": 50,
   "metadata": {},
   "outputs": [],
   "source": [
    "def changeDetect():\n",
    "    input_list = [0]*5\n",
    "    for i in range(5):\n",
    "        changeDetectUtil(input_list)\n",
    "        print(input_list)"
   ]
  },
  {
   "cell_type": "code",
   "execution_count": 51,
   "metadata": {},
   "outputs": [
    {
     "name": "stdout",
     "output_type": "stream",
     "text": [
      "[1, 2, 0, 0, 0]\n",
      "[1, 2, 0, 0, 0]\n",
      "[1, 2, 0, 0, 0]\n",
      "[1, 2, 0, 0, 0]\n",
      "[1, 2, 0, 0, 0]\n"
     ]
    }
   ],
   "source": [
    "changeDetect()"
   ]
  },
  {
   "cell_type": "code",
   "execution_count": 55,
   "metadata": {},
   "outputs": [],
   "source": [
    "def changeUtil(x):\n",
    "    x[0]=2\n",
    "    return"
   ]
  },
  {
   "cell_type": "code",
   "execution_count": 56,
   "metadata": {},
   "outputs": [],
   "source": [
    "def change():\n",
    "    x=[3,2]\n",
    "    changeUtil(x)\n",
    "    print(x)"
   ]
  },
  {
   "cell_type": "code",
   "execution_count": 57,
   "metadata": {},
   "outputs": [
    {
     "name": "stdout",
     "output_type": "stream",
     "text": [
      "[2, 2]\n"
     ]
    }
   ],
   "source": [
    "change()"
   ]
  }
 ],
 "metadata": {
  "kernelspec": {
   "display_name": "Python 3",
   "language": "python",
   "name": "python3"
  },
  "language_info": {
   "codemirror_mode": {
    "name": "ipython",
    "version": 3
   },
   "file_extension": ".py",
   "mimetype": "text/x-python",
   "name": "python",
   "nbconvert_exporter": "python",
   "pygments_lexer": "ipython3",
   "version": "3.7.4"
  }
 },
 "nbformat": 4,
 "nbformat_minor": 4
}
