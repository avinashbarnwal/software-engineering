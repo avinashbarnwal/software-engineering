{
 "cells": [
  {
   "cell_type": "code",
   "execution_count": 9,
   "metadata": {},
   "outputs": [],
   "source": [
    "import numpy as np\n",
    "\n",
    "def max_heap(A,i):\n",
    "    \n",
    "    left = 2*i + 1\n",
    "    right = 2*i +2\n",
    "    largest = i\n",
    "    \n",
    "    if left < len(A) and A[left] > A[largest]:\n",
    "        largest = left\n",
    "    if right < len(A) and A[right] > A[largest]:\n",
    "        largest = right\n",
    "    if largest != i:\n",
    "        A[i],A[largest] = A[largest],A[i]\n",
    "        max_heap(A,largest)\n",
    "        \n",
    "def build_max_heap(A):\n",
    "    for i in range(len(A)//2,-1,-1):\n",
    "        max_heap(A,i)\n",
    "        \n",
    "        "
   ]
  },
  {
   "cell_type": "code",
   "execution_count": 10,
   "metadata": {},
   "outputs": [],
   "source": [
    "def print_tree(A, i=0, indent=0):\n",
    "    if i < len(A):\n",
    "        print('  ' * indent, A[i])\n",
    "        print_tree(A, i * 2 + 1, indent + 1)\n",
    "        print_tree(A, i * 2 + 2, indent + 1)"
   ]
  },
  {
   "cell_type": "code",
   "execution_count": 12,
   "metadata": {},
   "outputs": [
    {
     "name": "stdout",
     "output_type": "stream",
     "text": [
      " 8\n",
      "   7\n",
      "     3\n",
      "       1\n",
      "       0\n",
      "     4\n",
      "   6\n",
      "     5\n",
      "     2\n"
     ]
    }
   ],
   "source": [
    "A = np.arange(9) \n",
    "build_max_heap(A)\n",
    "print_tree(A)"
   ]
  }
 ],
 "metadata": {
  "kernelspec": {
   "display_name": "Python 3",
   "language": "python",
   "name": "python3"
  },
  "language_info": {
   "codemirror_mode": {
    "name": "ipython",
    "version": 3
   },
   "file_extension": ".py",
   "mimetype": "text/x-python",
   "name": "python",
   "nbconvert_exporter": "python",
   "pygments_lexer": "ipython3",
   "version": "3.6.5"
  }
 },
 "nbformat": 4,
 "nbformat_minor": 2
}
