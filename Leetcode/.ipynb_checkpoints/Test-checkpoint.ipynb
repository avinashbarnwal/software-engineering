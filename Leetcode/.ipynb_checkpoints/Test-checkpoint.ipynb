{
 "cells": [
  {
   "cell_type": "code",
   "execution_count": 11,
   "metadata": {},
   "outputs": [
    {
     "name": "stdout",
     "output_type": "stream",
     "text": [
      "True\n"
     ]
    }
   ],
   "source": [
    "A = [1,2,3,4]\n",
    "all(A[i] < A[i+1] for i in range(len(A)-1))"
   ]
  },
  {
   "cell_type": "code",
   "execution_count": 2,
   "metadata": {},
   "outputs": [
    {
     "name": "stdout",
     "output_type": "stream",
     "text": [
      "('c', 'd', 'g')\n",
      "('b', 'a', 'h')\n",
      "('a', 'f', 'i')\n"
     ]
    }
   ],
   "source": [
    "A = [\"cba\",\"daf\",\"ghi\"]\n",
    "for col in zip(*A):\n",
    "    print(col)"
   ]
  },
  {
   "cell_type": "code",
   "execution_count": 3,
   "metadata": {},
   "outputs": [
    {
     "name": "stdout",
     "output_type": "stream",
     "text": [
      "cba daf\n",
      "daf ghi\n"
     ]
    }
   ],
   "source": [
    "for a, b in zip(A, A[1:]):\n",
    "    print(a,b)"
   ]
  },
  {
   "cell_type": "code",
   "execution_count": 2,
   "metadata": {},
   "outputs": [],
   "source": [
    "i = 2"
   ]
  },
  {
   "cell_type": "code",
   "execution_count": 10,
   "metadata": {},
   "outputs": [],
   "source": [
    "i <<= 1"
   ]
  },
  {
   "cell_type": "code",
   "execution_count": 11,
   "metadata": {},
   "outputs": [
    {
     "data": {
      "text/plain": [
       "8"
      ]
     },
     "execution_count": 11,
     "metadata": {},
     "output_type": "execute_result"
    }
   ],
   "source": [
    "i"
   ]
  },
  {
   "cell_type": "code",
   "execution_count": 16,
   "metadata": {},
   "outputs": [],
   "source": [
    "def divide(dividend, divisor):\n",
    "    positive          = (dividend < 0) is (divisor < 0)\n",
    "    dividend, divisor = abs(dividend), abs(divisor)\n",
    "    res               = 0\n",
    "    while dividend >= divisor:\n",
    "        temp, i = divisor, 1\n",
    "        print(\"temp\")\n",
    "        print(temp)\n",
    "        while dividend >= temp:\n",
    "            dividend -= temp\n",
    "            res += i\n",
    "            print(\"res\")\n",
    "            print(res)\n",
    "            i <<= 1\n",
    "            temp <<= 1\n",
    "    if not positive:\n",
    "        res = -res\n",
    "    return res"
   ]
  },
  {
   "cell_type": "code",
   "execution_count": 17,
   "metadata": {},
   "outputs": [
    {
     "name": "stdout",
     "output_type": "stream",
     "text": [
      "temp\n",
      "3\n",
      "res\n",
      "1\n",
      "res\n",
      "3\n",
      "res\n",
      "7\n",
      "res\n",
      "15\n",
      "res\n",
      "31\n",
      "temp\n",
      "3\n",
      "res\n",
      "32\n",
      "temp\n",
      "3\n",
      "res\n",
      "33\n"
     ]
    },
    {
     "data": {
      "text/plain": [
       "33"
      ]
     },
     "execution_count": 17,
     "metadata": {},
     "output_type": "execute_result"
    }
   ],
   "source": [
    "divide(100,3)"
   ]
  },
  {
   "cell_type": "code",
   "execution_count": 33,
   "metadata": {},
   "outputs": [],
   "source": [
    "def helper(dividend, divisor):\n",
    "\n",
    "        if divisor > dividend:\n",
    "            return 0\n",
    "        \n",
    "        div = divisor\n",
    "        res = 1\n",
    "\n",
    "        while div + divisor <= dividend:\n",
    "            div += divisor\n",
    "            res += 1\n",
    "            print(res)\n",
    "        \n",
    "        return res \n",
    "    "
   ]
  },
  {
   "cell_type": "code",
   "execution_count": 34,
   "metadata": {},
   "outputs": [
    {
     "name": "stdout",
     "output_type": "stream",
     "text": [
      "2\n",
      "3\n"
     ]
    },
    {
     "data": {
      "text/plain": [
       "3"
      ]
     },
     "execution_count": 34,
     "metadata": {},
     "output_type": "execute_result"
    }
   ],
   "source": [
    "helper(10,3)"
   ]
  }
 ],
 "metadata": {
  "kernelspec": {
   "display_name": "Python 3",
   "language": "python",
   "name": "python3"
  },
  "language_info": {
   "codemirror_mode": {
    "name": "ipython",
    "version": 3
   },
   "file_extension": ".py",
   "mimetype": "text/x-python",
   "name": "python",
   "nbconvert_exporter": "python",
   "pygments_lexer": "ipython3",
   "version": "3.6.5"
  }
 },
 "nbformat": 4,
 "nbformat_minor": 2
}
