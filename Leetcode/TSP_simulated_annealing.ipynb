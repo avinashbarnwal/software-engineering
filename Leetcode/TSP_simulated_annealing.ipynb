{
 "cells": [
  {
   "cell_type": "code",
   "execution_count": 1,
   "metadata": {},
   "outputs": [],
   "source": [
    "##Simulated Annealing##\n",
    "##exponentially decreasing temperature in a simulated annealing algorithm\n"
   ]
  },
  {
   "cell_type": "code",
   "execution_count": 11,
   "metadata": {},
   "outputs": [
    {
     "data": {
      "text/plain": [
       "[4, 14]"
      ]
     },
     "execution_count": 11,
     "metadata": {},
     "output_type": "execute_result"
    }
   ],
   "source": [
    "import random, numpy, math, copy, matplotlib.pyplot as plt\n",
    "#Creating Cities\n",
    "cities = [random.sample(range(100), 2) for x in range(15)];\n",
    "#Generate Tour\n",
    "tour = random.sample(range(15),15);\n",
    "#Generating Temperature decreasing order\n",
    "for temperature in numpy.logspace(0,5,num=100000)[::-1]:\n",
    "    #Generate two cities\n",
    "    #Swap it in the current tour\n",
    "    [i,j] = sorted(random.sample(range(15),2));\n",
    "    newTour =  tour[:i] + tour[j:j+1] +  tour[i+1:j] + tour[i:i+1] + tour[j+1:];\n",
    "    \n",
    "    \n",
    "    if math.exp( ( sum([ math.sqrt(sum([(cities[tour[(k+1) % 15]][d] - cities[tour[k % 15]][d])**2 for d in [0,1] ])) for k in [j,j-1,i,i-1]]) - sum([math.sqrt(sum([(cities[newTour[(k+1) % 15]][d] - cities[newTour[k % 15]][d])**2 for d in [0,1] ])) for k in [j,j-1,i,i-1]])) / temperature) > random.random():\n",
    "        tour = copy.copy(newTour);\n",
    "plt.plot([cities[tour[i % 15]][0] for i in range(16)], [cities[tour[i % 15]][1] for i in range(16)], 'xb-');\n",
    "plt.show()"
   ]
  }
 ],
 "metadata": {
  "kernelspec": {
   "display_name": "Python 3",
   "language": "python",
   "name": "python3"
  },
  "language_info": {
   "codemirror_mode": {
    "name": "ipython",
    "version": 3
   },
   "file_extension": ".py",
   "mimetype": "text/x-python",
   "name": "python",
   "nbconvert_exporter": "python",
   "pygments_lexer": "ipython3",
   "version": "3.6.5"
  }
 },
 "nbformat": 4,
 "nbformat_minor": 2
}
