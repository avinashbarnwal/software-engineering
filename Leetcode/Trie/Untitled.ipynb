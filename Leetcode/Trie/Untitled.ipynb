{
 "cells": [
  {
   "cell_type": "code",
   "execution_count": 2,
   "metadata": {},
   "outputs": [
    {
     "name": "stdout",
     "output_type": "stream",
     "text": [
      "a\n",
      "b\n"
     ]
    }
   ],
   "source": [
    "# you can write to stdout for debugging purposes, e.g.\n",
    "# print(\"this is a debug message\")\n",
    "\n",
    "def solution(N):\n",
    "    \n",
    "    #Input Type  - Int\n",
    "    #Return Type - Int\n",
    "        \n",
    "    p = ''\n",
    "    n = str(N)\n",
    "    if int(n) >= 0:\n",
    "    \tdone = 0\n",
    "    \tfor x in n:\n",
    "    \t\tif int(x) < 5 and not done:\n",
    "    \t\t\tp += '5'\n",
    "    \t\t\tp += x\n",
    "    \t\t\tdone = 1\n",
    "    \t\telse:\n",
    "    \t\t\tp += x\n",
    "    \tif not done:\n",
    "    \t\tp = p+'5'\n",
    "    \treturn int(p)\n",
    "    else:\n",
    "    \tdone = 0\n",
    "    \tn    = n[1:]\n",
    "    \tfor x in n:\n",
    "    \t\tif int(x) > 5 and not done:\n",
    "    \t\t\tp += '5'\n",
    "    \t\t\tp += x\n",
    "    \t\t\tdone = 1\n",
    "    \t\telse:\n",
    "    \t\t\tp += x\n",
    "    \tif not done:\n",
    "    \t\tp = p+'5'\n",
    "    \treturn int('-'+p)"
   ]
  }
 ],
 "metadata": {
  "kernelspec": {
   "display_name": "Python 3",
   "language": "python",
   "name": "python3"
  },
  "language_info": {
   "codemirror_mode": {
    "name": "ipython",
    "version": 3
   },
   "file_extension": ".py",
   "mimetype": "text/x-python",
   "name": "python",
   "nbconvert_exporter": "python",
   "pygments_lexer": "ipython3",
   "version": "3.7.4"
  }
 },
 "nbformat": 4,
 "nbformat_minor": 4
}
