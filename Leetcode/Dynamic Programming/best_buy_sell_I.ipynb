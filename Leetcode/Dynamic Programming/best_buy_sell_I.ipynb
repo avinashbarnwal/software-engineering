{
 "cells": [
  {
   "cell_type": "code",
   "execution_count": 9,
   "metadata": {},
   "outputs": [
    {
     "data": {
      "text/plain": [
       "5"
      ]
     },
     "execution_count": 9,
     "metadata": {},
     "output_type": "execute_result"
    }
   ],
   "source": [
    "##Store min price\n",
    "##change the max profit\n",
    "input_data = [7,1,5,3,6,4]\n",
    "n          = len(input_data)\n",
    "max_profit = 0\n",
    "min_price  = input_data[0]\n",
    "\n",
    "for i in range(n):\n",
    "    if input_data[i] < min_price:\n",
    "        min_price = input_data[i]\n",
    "    if input_data[i] - min_price > max_profit:\n",
    "        max_profit = input_data[i] - min_price\n",
    "\n",
    "        \n",
    "max_profit"
   ]
  },
  {
   "cell_type": "code",
   "execution_count": 4,
   "metadata": {},
   "outputs": [],
   "source": [
    "k = 4\n",
    "n = 10\n",
    "profit = [[0 for i in range(k + 1)] \n",
    "                 for j in range(n)]"
   ]
  }
 ],
 "metadata": {
  "kernelspec": {
   "display_name": "Python 3",
   "language": "python",
   "name": "python3"
  },
  "language_info": {
   "codemirror_mode": {
    "name": "ipython",
    "version": 3
   },
   "file_extension": ".py",
   "mimetype": "text/x-python",
   "name": "python",
   "nbconvert_exporter": "python",
   "pygments_lexer": "ipython3",
   "version": "3.6.5"
  }
 },
 "nbformat": 4,
 "nbformat_minor": 2
}
