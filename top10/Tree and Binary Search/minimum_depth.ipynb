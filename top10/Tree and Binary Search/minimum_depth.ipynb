{
 "cells": [
  {
   "cell_type": "code",
   "execution_count": 11,
   "metadata": {},
   "outputs": [],
   "source": [
    "class Node:\n",
    "    def __init__(self,data):\n",
    "        self.data = data\n",
    "        self.left = None\n",
    "        self.right = None\n",
    "        \n",
    "def minDepth(root):\n",
    "    if root is None:\n",
    "        return 0\n",
    "    queue = []\n",
    "    node  = root\n",
    "    queue.append({'node':node,'depth':1})\n",
    "    while queue:\n",
    "        nodeItem = queue.pop(0)\n",
    "        node     = nodeItem['node']\n",
    "        depth    = nodeItem['depth']\n",
    "        if node.left is None and node.right is None:\n",
    "            return depth\n",
    "        if node.left is not None:\n",
    "            queue.append({'node':node.left,'depth':depth+1})\n",
    "        if node.right is not None:\n",
    "            queue.append({'node':node.right,'depth':depth+1})"
   ]
  },
  {
   "cell_type": "code",
   "execution_count": 12,
   "metadata": {},
   "outputs": [],
   "source": [
    "root = Node(1) \n",
    "root.left = Node(2) \n",
    "root.right = Node(3) \n",
    "root.left.left = Node(4) \n",
    "root.left.right = Node(5) "
   ]
  },
  {
   "cell_type": "code",
   "execution_count": 14,
   "metadata": {},
   "outputs": [
    {
     "name": "stdout",
     "output_type": "stream",
     "text": [
      "2\n"
     ]
    }
   ],
   "source": [
    "print(minDepth(root))"
   ]
  }
 ],
 "metadata": {
  "kernelspec": {
   "display_name": "Python 3",
   "language": "python",
   "name": "python3"
  },
  "language_info": {
   "codemirror_mode": {
    "name": "ipython",
    "version": 3
   },
   "file_extension": ".py",
   "mimetype": "text/x-python",
   "name": "python",
   "nbconvert_exporter": "python",
   "pygments_lexer": "ipython3",
   "version": "3.7.4"
  }
 },
 "nbformat": 4,
 "nbformat_minor": 4
}
