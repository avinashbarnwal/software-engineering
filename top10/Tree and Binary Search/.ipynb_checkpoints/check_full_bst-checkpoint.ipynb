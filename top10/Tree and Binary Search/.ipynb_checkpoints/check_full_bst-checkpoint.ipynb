{
 "cells": [
  {
   "cell_type": "code",
   "execution_count": 1,
   "metadata": {},
   "outputs": [],
   "source": [
    "class Node:\n",
    "    def __init__(self,data):\n",
    "        self.val   = data\n",
    "        self.left  = None\n",
    "        self.right = None\n",
    "def IsFullBST(root):\n",
    "    if root is None:\n",
    "        return True\n",
    "    if root.left is None and root.right is None:\n",
    "        return True\n",
    "    if root.left and root.right:\n",
    "        return IsFullBST(root.left) and IsFullBST(root.right)\n",
    "    return False"
   ]
  },
  {
   "cell_type": "code",
   "execution_count": 2,
   "metadata": {},
   "outputs": [],
   "source": [
    "# Driver Program \n",
    "root = Node(10)\n",
    "root.left = Node(20)\n",
    "root.right = Node(30)\n",
    "  \n",
    "root.left.right = Node(40) \n",
    "root.left.left = Node(50)\n",
    "root.right.left = Node(60) \n",
    "root.right.right = Node(70)\n",
    "  \n",
    "root.left.left.left = Node(80)\n",
    "root.left.left.right = Node(90)\n",
    "root.left.right.left = Node(80)\n",
    "root.left.right.right = Node(90)\n",
    "root.right.left.left = Node(80)\n",
    "root.right.left.right = Node(90)\n",
    "root.right.right.left = Node(80)\n",
    "root.right.right.right = Node(90)"
   ]
  },
  {
   "cell_type": "code",
   "execution_count": 5,
   "metadata": {},
   "outputs": [
    {
     "name": "stdout",
     "output_type": "stream",
     "text": [
      "The Binary tree is full\n"
     ]
    }
   ],
   "source": [
    "if IsFullBST(root): \n",
    "    print(\"The Binary tree is full\")\n",
    "else: \n",
    "    print(\"Binary tree is not full\")"
   ]
  }
 ],
 "metadata": {
  "kernelspec": {
   "display_name": "Python 3",
   "language": "python",
   "name": "python3"
  },
  "language_info": {
   "codemirror_mode": {
    "name": "ipython",
    "version": 3
   },
   "file_extension": ".py",
   "mimetype": "text/x-python",
   "name": "python",
   "nbconvert_exporter": "python",
   "pygments_lexer": "ipython3",
   "version": "3.7.4"
  }
 },
 "nbformat": 4,
 "nbformat_minor": 4
}
