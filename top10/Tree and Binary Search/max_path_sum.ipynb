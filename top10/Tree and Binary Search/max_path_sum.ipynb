{
 "cells": [
  {
   "cell_type": "code",
   "execution_count": 1,
   "metadata": {},
   "outputs": [],
   "source": [
    "class Node(object):\n",
    "    def __init__(self, x):\n",
    "        self.val   = x\n",
    "        self.left  = None\n",
    "        self.right = None"
   ]
  },
  {
   "cell_type": "code",
   "execution_count": 2,
   "metadata": {},
   "outputs": [],
   "source": [
    "def maxPathSum(root):\n",
    "    max_sum = -float('inf')\n",
    "    def max_gain(node):\n",
    "        nonlocal max_sum\n",
    "        if not node:\n",
    "            return 0\n",
    "        left_gain  = max(max_gain(node.left),0)\n",
    "        right_gain = max(max_gain(node.right),0)\n",
    "        newPathSum = left_gain+node.val+right_gain\n",
    "        max_sum    = max(max_sum,newPathSum)\n",
    "        # Recursion - Continues path or not\n",
    "        return node.val + max(left_gain,right_gain)\n",
    "    max_gain(root)\n",
    "    return max_sum"
   ]
  },
  {
   "cell_type": "code",
   "execution_count": 3,
   "metadata": {},
   "outputs": [
    {
     "name": "stdout",
     "output_type": "stream",
     "text": [
      "Max path sum is  42\n"
     ]
    }
   ],
   "source": [
    "root                    = Node(10) \n",
    "root.left               = Node(2) \n",
    "root.right              = Node(10)\n",
    "root.left.left          = Node(20)\n",
    "root.left.right         = Node(1)\n",
    "root.right.right        = Node(-25)\n",
    "root.right.right.left   = Node(3)\n",
    "root.right.right.right  = Node(4)\n",
    "print(\"Max path sum is \",maxPathSum(root))"
   ]
  }
 ],
 "metadata": {
  "kernelspec": {
   "display_name": "Python 3",
   "language": "python",
   "name": "python3"
  },
  "language_info": {
   "codemirror_mode": {
    "name": "ipython",
    "version": 3
   },
   "file_extension": ".py",
   "mimetype": "text/x-python",
   "name": "python",
   "nbconvert_exporter": "python",
   "pygments_lexer": "ipython3",
   "version": "3.7.4"
  }
 },
 "nbformat": 4,
 "nbformat_minor": 4
}
