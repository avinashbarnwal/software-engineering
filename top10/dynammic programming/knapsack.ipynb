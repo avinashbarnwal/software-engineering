{
 "cells": [
  {
   "cell_type": "code",
   "execution_count": 10,
   "metadata": {},
   "outputs": [],
   "source": [
    "#Row    - Number of Coins\n",
    "#Column - Number of Weights"
   ]
  },
  {
   "cell_type": "code",
   "execution_count": null,
   "metadata": {},
   "outputs": [],
   "source": [
    "def knapSack(val,wt,W,n):\n",
    "    K = [[0 for j in range(W+1)] for i in range(n+1)]\n",
    "    for i in range(n+1):\n",
    "        for w in range(W+1):\n",
    "            if wt[i-1]<=w:\n",
    "                # Coin i-1 is included or not\n",
    "                K[i][w] = max(val[i-1]+K[i-1][w-wt[i-1]],K[i-1][w])\n",
    "            else:\n",
    "                # If weight is higher\n",
    "                K[i][w] = K[i-1][w]\n",
    "    return K[n][W]"
   ]
  },
  {
   "cell_type": "code",
   "execution_count": 5,
   "metadata": {},
   "outputs": [],
   "source": [
    "# Driver program to test above function \n",
    "# Bottom Up Manner\n",
    "val = [60, 100, 120] \n",
    "wt  = [10, 20, 30] \n",
    "W   = 50\n",
    "n   = len(val)"
   ]
  },
  {
   "cell_type": "code",
   "execution_count": 11,
   "metadata": {},
   "outputs": [
    {
     "name": "stdout",
     "output_type": "stream",
     "text": [
      "220\n"
     ]
    }
   ],
   "source": [
    "print(knapSack(val,wt,W,n))"
   ]
  }
 ],
 "metadata": {
  "kernelspec": {
   "display_name": "Python 3",
   "language": "python",
   "name": "python3"
  },
  "language_info": {
   "codemirror_mode": {
    "name": "ipython",
    "version": 3
   },
   "file_extension": ".py",
   "mimetype": "text/x-python",
   "name": "python",
   "nbconvert_exporter": "python",
   "pygments_lexer": "ipython3",
   "version": "3.7.4"
  }
 },
 "nbformat": 4,
 "nbformat_minor": 4
}
