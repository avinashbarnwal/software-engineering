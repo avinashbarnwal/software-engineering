{
 "cells": [
  {
   "cell_type": "code",
   "execution_count": 3,
   "metadata": {},
   "outputs": [],
   "source": [
    "from collections import defaultdict\n",
    "class Graph:\n",
    "    \n",
    "    def __init__(self):\n",
    "        self.graph = defaultdict(list)\n",
    "        \n",
    "    def addEdge(self,u,v):\n",
    "        self.graph[u].append(v)\n",
    "        \n",
    "    def dfs(self,s):\n",
    "        nNodes  = len(self.graph)\n",
    "        visited = [False]*nNodes\n",
    "        return self.dfsUtil(s,visited)\n",
    "    def dfsUtil(self,s,visited):\n",
    "        visited[s]=True\n",
    "        print(\"Visited = \",s)\n",
    "        for neighbor in self.graph[s]:\n",
    "            if visited[neighbor]==False:\n",
    "                self.dfsUtil(neighbor,visited)"
   ]
  },
  {
   "cell_type": "code",
   "execution_count": 4,
   "metadata": {},
   "outputs": [],
   "source": [
    "graph = Graph()"
   ]
  },
  {
   "cell_type": "code",
   "execution_count": 5,
   "metadata": {},
   "outputs": [],
   "source": [
    "graph.addEdge(0,1)\n",
    "graph.addEdge(1,2)\n",
    "graph.addEdge(2,3)\n",
    "graph.addEdge(3,3)"
   ]
  },
  {
   "cell_type": "code",
   "execution_count": 6,
   "metadata": {},
   "outputs": [
    {
     "name": "stdout",
     "output_type": "stream",
     "text": [
      "Visited =  0\n",
      "Visited =  1\n",
      "Visited =  2\n",
      "Visited =  3\n"
     ]
    }
   ],
   "source": [
    "graph.dfs(0)"
   ]
  }
 ],
 "metadata": {
  "kernelspec": {
   "display_name": "Python 3",
   "language": "python",
   "name": "python3"
  },
  "language_info": {
   "codemirror_mode": {
    "name": "ipython",
    "version": 3
   },
   "file_extension": ".py",
   "mimetype": "text/x-python",
   "name": "python",
   "nbconvert_exporter": "python",
   "pygments_lexer": "ipython3",
   "version": "3.7.4"
  }
 },
 "nbformat": 4,
 "nbformat_minor": 4
}
