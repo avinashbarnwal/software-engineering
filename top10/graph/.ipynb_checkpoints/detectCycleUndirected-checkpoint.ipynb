{
 "cells": [
  {
   "cell_type": "code",
   "execution_count": 1,
   "metadata": {},
   "outputs": [],
   "source": [
    "from collections import defaultdict"
   ]
  },
  {
   "cell_type": "markdown",
   "metadata": {},
   "source": [
    "# This class represents a undirected graph using adjacency list representation"
   ]
  },
  {
   "cell_type": "code",
   "execution_count": 13,
   "metadata": {},
   "outputs": [],
   "source": [
    "class Graph:\n",
    "    \n",
    "    def __init__(self,vertices): \n",
    "        self.V     = vertices #No. of vertices\n",
    "        self.graph = defaultdict(list) # default dictionary to store graph\n",
    "    \n",
    "    # Function to add an edge to graph \n",
    "    def addEdge(self,u,v):\n",
    "        self.graph[u].append(v)\n",
    "    \n",
    "    # A utility function to find the subset of an element i \n",
    "    def find_parent(self, parent,i):\n",
    "        if parent[i] == -1:\n",
    "            return i\n",
    "        if parent[i]!= -1:\n",
    "             return self.find_parent(parent,parent[i])\n",
    "    \n",
    "    def union(self,parent,i,j):\n",
    "        x = self.find_parent(parent,i)\n",
    "        y = self.find_parent(parent,j)\n",
    "        parent[x] = y\n",
    "    \n",
    "    # Detect Cycle\n",
    "    def isCyclic(self):\n",
    "        parent = [-1]*self.V\n",
    "        \n",
    "        for i in self.graph:\n",
    "            for j in self.graph[i]:\n",
    "                x = self.find_parent(parent,i)\n",
    "                y = self.find_parent(parent,j)\n",
    "                if x==y:\n",
    "                    return True\n",
    "                self.union(parent,i,j)"
   ]
  },
  {
   "cell_type": "code",
   "execution_count": 14,
   "metadata": {},
   "outputs": [],
   "source": [
    "# Create a graph given in the above diagram \n",
    "g = Graph(3)\n",
    "g.addEdge(0, 1)\n",
    "g.addEdge(1, 2)\n",
    "g.addEdge(2, 0)"
   ]
  },
  {
   "cell_type": "code",
   "execution_count": 15,
   "metadata": {},
   "outputs": [
    {
     "name": "stdout",
     "output_type": "stream",
     "text": [
      "Graph contains cycle\n"
     ]
    }
   ],
   "source": [
    "if g.isCyclic(): \n",
    "    print(\"Graph contains cycle\")\n",
    "else :\n",
    "    print(\"Graph does not contain cycle \")"
   ]
  }
 ],
 "metadata": {
  "kernelspec": {
   "display_name": "Python 3",
   "language": "python",
   "name": "python3"
  },
  "language_info": {
   "codemirror_mode": {
    "name": "ipython",
    "version": 3
   },
   "file_extension": ".py",
   "mimetype": "text/x-python",
   "name": "python",
   "nbconvert_exporter": "python",
   "pygments_lexer": "ipython3",
   "version": "3.7.4"
  }
 },
 "nbformat": 4,
 "nbformat_minor": 4
}
