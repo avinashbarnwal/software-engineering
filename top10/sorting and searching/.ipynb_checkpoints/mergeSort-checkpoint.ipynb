{
 "cells": [
  {
   "cell_type": "code",
   "execution_count": 15,
   "metadata": {},
   "outputs": [],
   "source": [
    "def merge(arr,start,mid,end):\n",
    "    temp = [0]*(end-start+1)\n",
    "    i,j,k = start,mid+1,0\n",
    "    while i<=mid and j<=end:\n",
    "        if arr[i]<=arr[j]:\n",
    "            temp[k] = arr[i]\n",
    "            k+=1\n",
    "            i+=1\n",
    "        else:\n",
    "            temp[k]=arr[j]\n",
    "            k+=1\n",
    "            j+=1\n",
    "    while i<=mid:\n",
    "        temp[k]=arr[i]\n",
    "        k+=1\n",
    "        i+=1\n",
    "    while j<=end:\n",
    "        temp[k]=arr[j]\n",
    "        k+=1\n",
    "        j+=1\n",
    "    for i in range(start,end+1):\n",
    "        arr[i]=temp[i-start]\n",
    "    return arr"
   ]
  },
  {
   "cell_type": "code",
   "execution_count": 20,
   "metadata": {},
   "outputs": [],
   "source": [
    "def mergesort(arr,start,end):\n",
    "    if start<end:\n",
    "        mid = (start+end)//2\n",
    "        mergesort(arr,start,mid)\n",
    "        mergesort(arr,mid+1,end)\n",
    "        merge(arr,start,mid,end)"
   ]
  },
  {
   "cell_type": "code",
   "execution_count": 21,
   "metadata": {},
   "outputs": [],
   "source": [
    "arr = [12,11,13,5,6,7]\n",
    "end = len(arr)-1"
   ]
  },
  {
   "cell_type": "code",
   "execution_count": 22,
   "metadata": {},
   "outputs": [],
   "source": [
    "mergesort(arr,0,end)"
   ]
  },
  {
   "cell_type": "code",
   "execution_count": 23,
   "metadata": {},
   "outputs": [
    {
     "data": {
      "text/plain": [
       "[5, 6, 7, 11, 12, 13]"
      ]
     },
     "execution_count": 23,
     "metadata": {},
     "output_type": "execute_result"
    }
   ],
   "source": [
    "arr"
   ]
  }
 ],
 "metadata": {
  "kernelspec": {
   "display_name": "Python 3",
   "language": "python",
   "name": "python3"
  },
  "language_info": {
   "codemirror_mode": {
    "name": "ipython",
    "version": 3
   },
   "file_extension": ".py",
   "mimetype": "text/x-python",
   "name": "python",
   "nbconvert_exporter": "python",
   "pygments_lexer": "ipython3",
   "version": "3.7.4"
  }
 },
 "nbformat": 4,
 "nbformat_minor": 4
}
