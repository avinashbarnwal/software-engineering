{
 "cells": [
  {
   "cell_type": "code",
   "execution_count": 39,
   "metadata": {},
   "outputs": [],
   "source": [
    "def main(N):\n",
    "    output = []\n",
    "    ans    = []\n",
    "    backtracking(N,output,ans,N)\n",
    "    print(len(output))\n",
    "    print(output)\n",
    "\n",
    "def helper(topLadder,ans,output):\n",
    "  \n",
    "  # Steps - Status/Steps we have reached\n",
    "  # Base case\n",
    "  if sum(ans)==topLadder:\n",
    "    output.append(ans.copy())\n",
    "    return output\n",
    "  \n",
    "def backtracking(N,output,ans,topLadder):\n",
    "  \n",
    "  # input  - Int N\n",
    "  # Output - [[]]\n",
    "\n",
    "    start  = 1\n",
    "    end    = N\n",
    "    \n",
    "    if sum(ans)<topLadder:\n",
    "        for j in range(1,3):\n",
    "            steps      = sum(ans) + j\n",
    "            ans.append(j)\n",
    "            helper(topLadder,ans,output)\n",
    "            #Explore\n",
    "            backtracking(N-steps,output,ans,topLadder)\n",
    "            #Unchoose\n",
    "            steps = steps-j\n",
    "            ans.pop()\n",
    "    #        steps_iter = 1\n",
    "    #        steps = i + steps_iter"
   ]
  },
  {
   "cell_type": "code",
   "execution_count": 43,
   "metadata": {},
   "outputs": [
    {
     "name": "stdout",
     "output_type": "stream",
     "text": [
      "21\n",
      "[[1, 1, 1, 1, 1, 1, 1], [1, 1, 1, 1, 1, 2], [1, 1, 1, 1, 2, 1], [1, 1, 1, 2, 1, 1], [1, 1, 1, 2, 2], [1, 1, 2, 1, 1, 1], [1, 1, 2, 1, 2], [1, 1, 2, 2, 1], [1, 2, 1, 1, 1, 1], [1, 2, 1, 1, 2], [1, 2, 1, 2, 1], [1, 2, 2, 1, 1], [1, 2, 2, 2], [2, 1, 1, 1, 1, 1], [2, 1, 1, 1, 2], [2, 1, 1, 2, 1], [2, 1, 2, 1, 1], [2, 1, 2, 2], [2, 2, 1, 1, 1], [2, 2, 1, 2], [2, 2, 2, 1]]\n"
     ]
    }
   ],
   "source": [
    "main(7)"
   ]
  },
  {
   "cell_type": "code",
   "execution_count": null,
   "metadata": {},
   "outputs": [],
   "source": [
    "[1,1,1]\n",
    "[1,2]\n",
    "[2,1]"
   ]
  },
  {
   "cell_type": "code",
   "execution_count": 33,
   "metadata": {},
   "outputs": [
    {
     "data": {
      "text/plain": [
       "0"
      ]
     },
     "execution_count": 33,
     "metadata": {},
     "output_type": "execute_result"
    }
   ],
   "source": [
    "sum([])"
   ]
  }
 ],
 "metadata": {
  "kernelspec": {
   "display_name": "Python 3",
   "language": "python",
   "name": "python3"
  },
  "language_info": {
   "codemirror_mode": {
    "name": "ipython",
    "version": 3
   },
   "file_extension": ".py",
   "mimetype": "text/x-python",
   "name": "python",
   "nbconvert_exporter": "python",
   "pygments_lexer": "ipython3",
   "version": "3.7.4"
  }
 },
 "nbformat": 4,
 "nbformat_minor": 4
}
