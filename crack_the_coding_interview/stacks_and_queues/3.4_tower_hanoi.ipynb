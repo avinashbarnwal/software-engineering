{
 "cells": [
  {
   "cell_type": "markdown",
   "metadata": {},
   "source": [
    "### 3.4 In the classic problem of the Towers of Hanoi, you have 3 rods and N disks of di erent sizes which can slide onto any tower. The puzzle starts with disks sorted in ascending order of size from top to bottom (e.g., each disk sits on top of an even larger one). You have the following constraints:\n",
    "### (A) Only one disk can be moved at a time.\n",
    "### (B) A disk is slid o  the top of one rod onto the next rod.\n",
    "### (C) A disk can only be placed on top of a larger disk.\n",
    "### Write a program to move the disks from the  rst rod to the last using Stacks."
   ]
  },
  {
   "cell_type": "code",
   "execution_count": 2,
   "metadata": {},
   "outputs": [],
   "source": [
    "def tower_of_hanoi(n,source,helper,target):\n",
    "    if n>0:\n",
    "        # move tower of size n-1 to helper:\n",
    "        tower_of_hanoi(n-1,source,target,helper)\n",
    "        # move disk from source peg to target peg\n",
    "        if source:\n",
    "            target.append(source.pop())\n",
    "        # move tower of size n-1 from helper to target\n",
    "        tower_of_hanoi(n-1,helper,source,target)"
   ]
  },
  {
   "cell_type": "code",
   "execution_count": 4,
   "metadata": {},
   "outputs": [],
   "source": [
    "source = [4,3,2,1]\n",
    "target = []\n",
    "helper = []\n",
    "tower_of_hanoi(len(source),source,helper,target)"
   ]
  },
  {
   "cell_type": "code",
   "execution_count": 5,
   "metadata": {},
   "outputs": [
    {
     "data": {
      "text/plain": [
       "[4, 3, 2, 1]"
      ]
     },
     "execution_count": 5,
     "metadata": {},
     "output_type": "execute_result"
    }
   ],
   "source": [
    "target"
   ]
  }
 ],
 "metadata": {
  "kernelspec": {
   "display_name": "Python 3",
   "language": "python",
   "name": "python3"
  },
  "language_info": {
   "codemirror_mode": {
    "name": "ipython",
    "version": 3
   },
   "file_extension": ".py",
   "mimetype": "text/x-python",
   "name": "python",
   "nbconvert_exporter": "python",
   "pygments_lexer": "ipython3",
   "version": "3.7.4"
  }
 },
 "nbformat": 4,
 "nbformat_minor": 4
}
