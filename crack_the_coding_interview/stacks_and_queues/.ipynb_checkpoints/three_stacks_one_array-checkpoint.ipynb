{
 "cells": [
  {
   "cell_type": "markdown",
   "metadata": {},
   "source": [
    "### Describe how you could use a single array to implement three stacks."
   ]
  },
  {
   "cell_type": "markdown",
   "metadata": {},
   "source": [
    "### APIs"
   ]
  },
  {
   "cell_type": "code",
   "execution_count": 3,
   "metadata": {},
   "outputs": [],
   "source": [
    "# push(int x, int sn)\n",
    "# pop(int sn)"
   ]
  },
  {
   "cell_type": "code",
   "execution_count": 4,
   "metadata": {},
   "outputs": [],
   "source": [
    "n_stacks = 3\n",
    "n        = 300"
   ]
  },
  {
   "cell_type": "markdown",
   "metadata": {},
   "source": [
    "#### What we need"
   ]
  },
  {
   "cell_type": "code",
   "execution_count": 5,
   "metadata": {},
   "outputs": [],
   "source": [
    "# top_of_stack\n",
    "# next_index\n",
    "# stack_data\n",
    "# next_available"
   ]
  },
  {
   "cell_type": "code",
   "execution_count": 6,
   "metadata": {},
   "outputs": [],
   "source": [
    "top_of_stack   = [-1]*n_stacks\n",
    "next_index     = [i+1 for i in range(n)]\n",
    "next_index[-1] = -1\n",
    "stack_data     = [0]*n\n",
    "next_available = 0"
   ]
  },
  {
   "cell_type": "code",
   "execution_count": 9,
   "metadata": {},
   "outputs": [],
   "source": [
    "def push(x,sn):\n",
    "    temp = next_available\n",
    "    next_available = next_index[temp]\n",
    "    next_index[next_available] = top_of_stack[sn]\n",
    "    top_of_stack[sn] = x\n",
    "    return"
   ]
  },
  {
   "cell_type": "code",
   "execution_count": null,
   "metadata": {},
   "outputs": [],
   "source": [
    "def pop(sn):\n",
    "    temp = next_available\n",
    "    next_available = next_index[temp]\n",
    "    next_index[next_available] = top_of_stack[sn]\n",
    "    top_of_stack[sn] = x\n",
    "    return"
   ]
  }
 ],
 "metadata": {
  "kernelspec": {
   "display_name": "Python 3",
   "language": "python",
   "name": "python3"
  },
  "language_info": {
   "codemirror_mode": {
    "name": "ipython",
    "version": 3
   },
   "file_extension": ".py",
   "mimetype": "text/x-python",
   "name": "python",
   "nbconvert_exporter": "python",
   "pygments_lexer": "ipython3",
   "version": "3.7.4"
  }
 },
 "nbformat": 4,
 "nbformat_minor": 4
}
