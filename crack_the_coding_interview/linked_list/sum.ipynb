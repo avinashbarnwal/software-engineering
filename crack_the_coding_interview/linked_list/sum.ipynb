{
 "cells": [
  {
   "cell_type": "markdown",
   "metadata": {},
   "source": [
    "### You have two numbers represented by a linked list, where each node contains a sin- gle digit. The digits are stored in reverse order, such that the 1’s digit is at the head of the list. Write a function that adds the two numbers and returns the sum as a linked list."
   ]
  },
  {
   "cell_type": "code",
   "execution_count": 2,
   "metadata": {},
   "outputs": [],
   "source": [
    "class Node:\n",
    "    def __init__(self,data):\n",
    "        self.data = data\n",
    "        self.next = None"
   ]
  },
  {
   "cell_type": "code",
   "execution_count": 3,
   "metadata": {},
   "outputs": [],
   "source": [
    "class LinkedListNode:\n",
    "    def __init__(self,Node):\n",
    "        self.head = Node"
   ]
  },
  {
   "cell_type": "code",
   "execution_count": 4,
   "metadata": {},
   "outputs": [],
   "source": [
    "def sum_linked_list(p1,p2):\n",
    "    \n",
    "    if p1==None and p2==None:\n",
    "        return None\n",
    "    elif p1==None:\n",
    "        return p2\n",
    "    elif p2==None:\n",
    "        return p1\n",
    "    \n",
    "    carry = 0\n",
    "    res   = Node(0)\n",
    "    head  = res\n",
    "    \n",
    "    while p1!=None and p2!=None:\n",
    "        carry = (p1.data+p2.data+carry)//10\n",
    "        sum_res = (p1.data+p2.data+carry)%10\n",
    "        res_node = Node(sum_res)\n",
    "        res.next = res_Node\n",
    "        p1 = p1.next\n",
    "        p2 = p2.next\n",
    "        \n",
    "    if p1!=None:\n",
    "        while p1!=None:\n",
    "            carry = (p1.data+carry)//10\n",
    "            sum_res = (p1.data+carry)%10\n",
    "            res_node = Node(sum_res)\n",
    "            res.next = res_Node\n",
    "            p1 = p1.next\n",
    "    \n",
    "    if p2!=None:\n",
    "        while p2!=None:\n",
    "            carry = (p2.data+carry)//10\n",
    "            sum_res = (p2.data+carry)%10\n",
    "            res_node = Node(sum_res)\n",
    "            res.next = res_Node\n",
    "            p2 = p2.next\n",
    "            \n",
    "    if carry!=1:\n",
    "        res_node = Node(1)\n",
    "        res.next = res_node\n",
    "    return head.next"
   ]
  }
 ],
 "metadata": {
  "kernelspec": {
   "display_name": "Python 3",
   "language": "python",
   "name": "python3"
  },
  "language_info": {
   "codemirror_mode": {
    "name": "ipython",
    "version": 3
   },
   "file_extension": ".py",
   "mimetype": "text/x-python",
   "name": "python",
   "nbconvert_exporter": "python",
   "pygments_lexer": "ipython3",
   "version": "3.7.4"
  }
 },
 "nbformat": 4,
 "nbformat_minor": 4
}
