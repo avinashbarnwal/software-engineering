{
 "cells": [
  {
   "cell_type": "code",
   "execution_count": 13,
   "metadata": {},
   "outputs": [],
   "source": [
    "def is_substring(s1,s2):\n",
    "    n1 = len(s1)\n",
    "    n2 = len(s2)\n",
    "    if n1<n2:\n",
    "        s1,s2=s2,s1\n",
    "    n1,n2 = len(s1),len(s2)\n",
    "    for i in range(n1-n2+1):\n",
    "        if s2==s1[i:(i+n2)]:\n",
    "            return True\n",
    "    return False"
   ]
  },
  {
   "cell_type": "code",
   "execution_count": 16,
   "metadata": {},
   "outputs": [],
   "source": [
    "def is_rotated(s1,s2):\n",
    "    \n",
    "    n1,n2=len(s1),len(s2)\n",
    "    if n1!=n2:\n",
    "        return False\n",
    "    s2s2 = s2+s2\n",
    "    if is_substring(s1,s2s2):\n",
    "        return True\n",
    "    return False"
   ]
  }
 ],
 "metadata": {
  "kernelspec": {
   "display_name": "Python 3",
   "language": "python",
   "name": "python3"
  },
  "language_info": {
   "codemirror_mode": {
    "name": "ipython",
    "version": 3
   },
   "file_extension": ".py",
   "mimetype": "text/x-python",
   "name": "python",
   "nbconvert_exporter": "python",
   "pygments_lexer": "ipython3",
   "version": "3.7.4"
  }
 },
 "nbformat": 4,
 "nbformat_minor": 4
}
