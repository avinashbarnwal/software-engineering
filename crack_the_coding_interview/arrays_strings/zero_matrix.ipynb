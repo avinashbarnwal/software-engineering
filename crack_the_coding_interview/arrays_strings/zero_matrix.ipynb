{
 "cells": [
  {
   "cell_type": "markdown",
   "metadata": {},
   "source": [
    "### Write an algorithm such that if an element in an MxN matrix is 0, its entire row and column is set to 0."
   ]
  },
  {
   "cell_type": "code",
   "execution_count": 1,
   "metadata": {},
   "outputs": [],
   "source": [
    "def zeros_matrix(matrix):\n",
    "    \n",
    "    nRow = len(matrix)\n",
    "    nCol = len(matrix[0])\n",
    "    row  = [0]*nRow\n",
    "    col  = [0]*nCol\n",
    "    \n",
    "    for i in range(nRow):\n",
    "        for j in range(nCol):\n",
    "            if matrix[i][j]==0:\n",
    "                row[i]=1\n",
    "                col[j]=1\n",
    "    for i in range(nRow):\n",
    "        for j in range(nCol):\n",
    "            if row[i]==1|col[j]==1:\n",
    "                matrix[i][j]=0\n",
    "    return matrix"
   ]
  },
  {
   "cell_type": "code",
   "execution_count": null,
   "metadata": {},
   "outputs": [],
   "source": []
  }
 ],
 "metadata": {
  "kernelspec": {
   "display_name": "Python 3",
   "language": "python",
   "name": "python3"
  },
  "language_info": {
   "codemirror_mode": {
    "name": "ipython",
    "version": 3
   },
   "file_extension": ".py",
   "mimetype": "text/x-python",
   "name": "python",
   "nbconvert_exporter": "python",
   "pygments_lexer": "ipython3",
   "version": "3.7.4"
  }
 },
 "nbformat": 4,
 "nbformat_minor": 4
}
