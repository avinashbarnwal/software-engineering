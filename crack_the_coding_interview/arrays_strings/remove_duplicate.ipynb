{
 "cells": [
  {
   "cell_type": "code",
   "execution_count": 43,
   "metadata": {},
   "outputs": [],
   "source": [
    "def remove_duplicate(string):\n",
    "    \n",
    "    string = list(string)\n",
    "    index  = 1\n",
    "    n      = len(string)\n",
    "    \n",
    "    for i in range(1,n):\n",
    "        j = 0\n",
    "        while j<index:\n",
    "            if string[i]==string[j]:\n",
    "                break\n",
    "            j = j+1\n",
    "        if j==index:\n",
    "            string[index]=string[i]\n",
    "            index += 1\n",
    "    return ''.join(string[:index])"
   ]
  },
  {
   "cell_type": "code",
   "execution_count": 44,
   "metadata": {},
   "outputs": [
    {
     "data": {
      "text/plain": [
       "'ab'"
      ]
     },
     "execution_count": 44,
     "metadata": {},
     "output_type": "execute_result"
    }
   ],
   "source": [
    "remove_duplicate('aaab')"
   ]
  }
 ],
 "metadata": {
  "kernelspec": {
   "display_name": "Python 3",
   "language": "python",
   "name": "python3"
  },
  "language_info": {
   "codemirror_mode": {
    "name": "ipython",
    "version": 3
   },
   "file_extension": ".py",
   "mimetype": "text/x-python",
   "name": "python",
   "nbconvert_exporter": "python",
   "pygments_lexer": "ipython3",
   "version": "3.7.4"
  }
 },
 "nbformat": 4,
 "nbformat_minor": 4
}
