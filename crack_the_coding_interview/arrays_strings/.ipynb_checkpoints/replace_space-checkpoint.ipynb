{
 "cells": [
  {
   "cell_type": "markdown",
   "metadata": {},
   "source": [
    "Write a method to replace all spaces in a string with ‘%20’."
   ]
  },
  {
   "cell_type": "code",
   "execution_count": 5,
   "metadata": {},
   "outputs": [],
   "source": [
    "def replace_space(string):\n",
    "    n = len(string)\n",
    "    replaces_string = []\n",
    "    string = list(string)\n",
    "    for i in range(n):\n",
    "        if string[i]==\" \":\n",
    "            replaces_string.append('%20')\n",
    "        else:\n",
    "            replaces_string.append(string[i])\n",
    "    return \"\".join(replaces_string)"
   ]
  },
  {
   "cell_type": "code",
   "execution_count": 6,
   "metadata": {},
   "outputs": [
    {
     "data": {
      "text/plain": [
       "'avi%20barnwal'"
      ]
     },
     "execution_count": 6,
     "metadata": {},
     "output_type": "execute_result"
    }
   ],
   "source": [
    "replace_space(\"avi barnwal\")"
   ]
  }
 ],
 "metadata": {
  "kernelspec": {
   "display_name": "Python 3",
   "language": "python",
   "name": "python3"
  },
  "language_info": {
   "codemirror_mode": {
    "name": "ipython",
    "version": 3
   },
   "file_extension": ".py",
   "mimetype": "text/x-python",
   "name": "python",
   "nbconvert_exporter": "python",
   "pygments_lexer": "ipython3",
   "version": "3.7.4"
  }
 },
 "nbformat": 4,
 "nbformat_minor": 4
}
