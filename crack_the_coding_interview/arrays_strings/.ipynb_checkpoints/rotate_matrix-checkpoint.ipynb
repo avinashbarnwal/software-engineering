{
 "cells": [
  {
   "cell_type": "markdown",
   "metadata": {},
   "source": [
    "Given an image represented by an NxN matrix, where each pixel in the image is 4 bytes, write a method to rotate the image by 90 degrees. Can you do this in place?"
   ]
  },
  {
   "cell_type": "code",
   "execution_count": 7,
   "metadata": {},
   "outputs": [],
   "source": [
    "def rotate_matrix(matrix):\n",
    "    n = len(matrix)\n",
    "    for layer in range(0,n//2+1):\n",
    "        first = layer\n",
    "        last  = n-1-layer\n",
    "        for i in range(first,last):\n",
    "            offset = i-first\n",
    "            top = matrix[first][i]\n",
    "            # left->top\n",
    "            matrix[first][i]=matrix[last-offset][first]\n",
    "            # bottom->left\n",
    "            matrix[last-offset][first]=matrix[last][i]\n",
    "            # right->bottom\n",
    "            matrix[last][i]=matrix[i][last]\n",
    "            # top->right\n",
    "            matrix[i][last]=top\n",
    "    return matrix"
   ]
  },
  {
   "cell_type": "code",
   "execution_count": 8,
   "metadata": {},
   "outputs": [],
   "source": [
    "matrix = [[1,2],[1,2]]"
   ]
  },
  {
   "cell_type": "code",
   "execution_count": 9,
   "metadata": {},
   "outputs": [
    {
     "data": {
      "text/plain": [
       "[[1, 1], [2, 2]]"
      ]
     },
     "execution_count": 9,
     "metadata": {},
     "output_type": "execute_result"
    }
   ],
   "source": [
    "rotate_matrix(matrix)"
   ]
  }
 ],
 "metadata": {
  "kernelspec": {
   "display_name": "Python 3",
   "language": "python",
   "name": "python3"
  },
  "language_info": {
   "codemirror_mode": {
    "name": "ipython",
    "version": 3
   },
   "file_extension": ".py",
   "mimetype": "text/x-python",
   "name": "python",
   "nbconvert_exporter": "python",
   "pygments_lexer": "ipython3",
   "version": "3.7.4"
  }
 },
 "nbformat": 4,
 "nbformat_minor": 4
}
