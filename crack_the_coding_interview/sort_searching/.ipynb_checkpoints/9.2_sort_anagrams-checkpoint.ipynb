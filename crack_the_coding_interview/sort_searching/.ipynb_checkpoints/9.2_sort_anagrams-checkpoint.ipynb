{
 "cells": [
  {
   "cell_type": "markdown",
   "metadata": {},
   "source": [
    "### 9.2 Write a method to sort an array of strings so that all the anagrams are next to each other."
   ]
  },
  {
   "cell_type": "code",
   "execution_count": 3,
   "metadata": {},
   "outputs": [],
   "source": [
    "class Word:\n",
    "    def __init__(self,string,index):\n",
    "        self.string = string\n",
    "        self.index  = index"
   ]
  },
  {
   "cell_type": "code",
   "execution_count": 7,
   "metadata": {},
   "outputs": [],
   "source": [
    "def print_sorted_strings(string):\n",
    "    \n",
    "    dup_array = []\n",
    "    n = len(string)\n",
    "    \n",
    "    for i in range(n):\n",
    "        dup_array.append(Word(string[i],i))\n",
    "    \n",
    "    for i in range(n):\n",
    "        str_iter = sorted(dup_array[i].string)\n",
    "        dup_array[i] = Word(str_iter,i)\n",
    "        \n",
    "    dup_array  = sorted(dup_array,key=lambda x:x.string)\n",
    "    sorted_arr = []\n",
    "    \n",
    "    for i in range(n):\n",
    "        sorted_arr.append(string[dup_array[i].index])\n",
    "    \n",
    "    return sorted_arr"
   ]
  },
  {
   "cell_type": "code",
   "execution_count": 8,
   "metadata": {},
   "outputs": [],
   "source": [
    "wordArr = ['cat','dog','tac','god','act']"
   ]
  },
  {
   "cell_type": "code",
   "execution_count": 9,
   "metadata": {},
   "outputs": [
    {
     "data": {
      "text/plain": [
       "['cat', 'tac', 'act', 'dog', 'god']"
      ]
     },
     "execution_count": 9,
     "metadata": {},
     "output_type": "execute_result"
    }
   ],
   "source": [
    "print_sorted_strings(wordArr)"
   ]
  }
 ],
 "metadata": {
  "kernelspec": {
   "display_name": "Python 3",
   "language": "python",
   "name": "python3"
  },
  "language_info": {
   "codemirror_mode": {
    "name": "ipython",
    "version": 3
   },
   "file_extension": ".py",
   "mimetype": "text/x-python",
   "name": "python",
   "nbconvert_exporter": "python",
   "pygments_lexer": "ipython3",
   "version": "3.7.4"
  }
 },
 "nbformat": 4,
 "nbformat_minor": 4
}
