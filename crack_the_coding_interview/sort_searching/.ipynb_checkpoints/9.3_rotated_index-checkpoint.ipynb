{
 "cells": [
  {
   "cell_type": "markdown",
   "metadata": {},
   "source": [
    "### 9.3 Given a sorted array of n integers that has been rotated an unknown number of times, give an O(log n) algorithm that  nds an element in the array. You may assume that the array was originally sorted in increasing order."
   ]
  },
  {
   "cell_type": "code",
   "execution_count": 23,
   "metadata": {},
   "outputs": [],
   "source": [
    "def find_pivot(arr):\n",
    "    \n",
    "    start = 0\n",
    "    end   = len(arr)-1\n",
    "    \n",
    "    while start<end:\n",
    "        mid = (start+end)//2\n",
    "        if arr[mid]>arr[mid+1]:\n",
    "            return mid\n",
    "        if arr[mid-1]>arr[mid]:\n",
    "            return mid-1\n",
    "        if arr[mid]>arr[start]:\n",
    "            start = mid+1\n",
    "        elif arr[mid]<arr[start]:\n",
    "            end = mid-1\n",
    "    return None"
   ]
  },
  {
   "cell_type": "code",
   "execution_count": 21,
   "metadata": {},
   "outputs": [],
   "source": [
    "input_ls = [3,4,5,6,1,2]"
   ]
  },
  {
   "cell_type": "code",
   "execution_count": 24,
   "metadata": {},
   "outputs": [
    {
     "name": "stdout",
     "output_type": "stream",
     "text": [
      "3\n"
     ]
    },
    {
     "data": {
      "text/plain": [
       "3"
      ]
     },
     "execution_count": 24,
     "metadata": {},
     "output_type": "execute_result"
    }
   ],
   "source": [
    "find_pivot(input_ls)"
   ]
  }
 ],
 "metadata": {
  "kernelspec": {
   "display_name": "Python 3",
   "language": "python",
   "name": "python3"
  },
  "language_info": {
   "codemirror_mode": {
    "name": "ipython",
    "version": 3
   },
   "file_extension": ".py",
   "mimetype": "text/x-python",
   "name": "python",
   "nbconvert_exporter": "python",
   "pygments_lexer": "ipython3",
   "version": "3.7.4"
  }
 },
 "nbformat": 4,
 "nbformat_minor": 4
}
