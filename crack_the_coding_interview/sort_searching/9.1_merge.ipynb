{
 "cells": [
  {
   "cell_type": "markdown",
   "metadata": {},
   "source": [
    "### 9.1 You are given two sorted arrays, A and B, and A has a large enough buffer at the end to hold B. Write a method to merge B into A in sorted order."
   ]
  },
  {
   "cell_type": "code",
   "execution_count": 3,
   "metadata": {},
   "outputs": [],
   "source": [
    "def merge(a,b):\n",
    "    \n",
    "    n = len(a)\n",
    "    m = len(b)\n",
    "    k = m+n-1\n",
    "    i = n-1\n",
    "    j = m-1\n",
    "    \n",
    "    while i>=0 and j>=0:\n",
    "        if a[i]>b[j]:\n",
    "            a[k]=a[i]\n",
    "            k-=1\n",
    "            i-=1\n",
    "\n",
    "    while j>=0:\n",
    "        a[k]=b[j]\n",
    "        k-=1\n",
    "        j-=1\n",
    "    return a"
   ]
  }
 ],
 "metadata": {
  "kernelspec": {
   "display_name": "Python 3",
   "language": "python",
   "name": "python3"
  },
  "language_info": {
   "codemirror_mode": {
    "name": "ipython",
    "version": 3
   },
   "file_extension": ".py",
   "mimetype": "text/x-python",
   "name": "python",
   "nbconvert_exporter": "python",
   "pygments_lexer": "ipython3",
   "version": "3.7.4"
  }
 },
 "nbformat": 4,
 "nbformat_minor": 4
}
