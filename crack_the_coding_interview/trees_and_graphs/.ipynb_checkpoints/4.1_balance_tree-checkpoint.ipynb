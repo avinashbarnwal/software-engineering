{
 "cells": [
  {
   "cell_type": "markdown",
   "metadata": {},
   "source": [
    "### 4.1 - Implement a function to check if a tree is balanced. For the purposes of this question, a balanced tree is de ned to be a tree such that no two leaf nodes di er in distance from the root by more than one."
   ]
  },
  {
   "cell_type": "code",
   "execution_count": 2,
   "metadata": {},
   "outputs": [],
   "source": [
    "class Node:\n",
    "    def __init__(self,data):\n",
    "        self.data   = data\n",
    "        self.left   = None\n",
    "        self.right  = None"
   ]
  },
  {
   "cell_type": "code",
   "execution_count": 28,
   "metadata": {},
   "outputs": [],
   "source": [
    "class check_balance:\n",
    "    def __init__(self,tree):\n",
    "        self.tree = tree\n",
    "    def max_depth(self,root):\n",
    "        if not root:\n",
    "            return 0\n",
    "        return 1+ max(self.max_depth(root.left),self.max_depth(root.right))\n",
    "    def min_depth(self,root):\n",
    "        if not root:\n",
    "            return 0\n",
    "        return 1+ min(self.min_depth(root.left),self.min_depth(root.right))\n",
    "    def check_balance_util(self):\n",
    "        max_depth = self.max_depth(self.tree)\n",
    "        min_depth = self.min_depth(self.tree)\n",
    "        if max_depth-min_depth>1:\n",
    "            return(\"Unbalanced Tree\")\n",
    "        else:\n",
    "            return(\"Balanced Tree\")"
   ]
  },
  {
   "cell_type": "code",
   "execution_count": 7,
   "metadata": {},
   "outputs": [],
   "source": [
    "tree = Node(20)"
   ]
  },
  {
   "cell_type": "code",
   "execution_count": 8,
   "metadata": {},
   "outputs": [],
   "source": [
    "tree.left = Node(9)\n",
    "tree.right = Node(30)"
   ]
  },
  {
   "cell_type": "code",
   "execution_count": 9,
   "metadata": {},
   "outputs": [],
   "source": [
    "tree.left.left = Node(8)\n",
    "tree.left.right= Node(12)\n",
    "tree.right.left = Node(25)\n",
    "tree.right.right= Node(40)"
   ]
  },
  {
   "cell_type": "code",
   "execution_count": 26,
   "metadata": {},
   "outputs": [],
   "source": [
    "check_balance_iter = check_balance(tree)"
   ]
  },
  {
   "cell_type": "code",
   "execution_count": 29,
   "metadata": {},
   "outputs": [
    {
     "ename": "TypeError",
     "evalue": "check_balance_util() takes 0 positional arguments but 1 was given",
     "output_type": "error",
     "traceback": [
      "\u001b[0;31m---------------------------------------------------------------------------\u001b[0m",
      "\u001b[0;31mTypeError\u001b[0m                                 Traceback (most recent call last)",
      "\u001b[0;32m<ipython-input-29-c0e56bb20916>\u001b[0m in \u001b[0;36m<module>\u001b[0;34m\u001b[0m\n\u001b[0;32m----> 1\u001b[0;31m \u001b[0mcheck_balance_iter\u001b[0m\u001b[0;34m.\u001b[0m\u001b[0mcheck_balance_util\u001b[0m\u001b[0;34m(\u001b[0m\u001b[0;34m)\u001b[0m\u001b[0;34m\u001b[0m\u001b[0;34m\u001b[0m\u001b[0m\n\u001b[0m",
      "\u001b[0;31mTypeError\u001b[0m: check_balance_util() takes 0 positional arguments but 1 was given"
     ]
    }
   ],
   "source": [
    "check_balance_iter.check_balance_util()"
   ]
  }
 ],
 "metadata": {
  "kernelspec": {
   "display_name": "Python 3",
   "language": "python",
   "name": "python3"
  },
  "language_info": {
   "codemirror_mode": {
    "name": "ipython",
    "version": 3
   },
   "file_extension": ".py",
   "mimetype": "text/x-python",
   "name": "python",
   "nbconvert_exporter": "python",
   "pygments_lexer": "ipython3",
   "version": "3.7.4"
  }
 },
 "nbformat": 4,
 "nbformat_minor": 4
}
