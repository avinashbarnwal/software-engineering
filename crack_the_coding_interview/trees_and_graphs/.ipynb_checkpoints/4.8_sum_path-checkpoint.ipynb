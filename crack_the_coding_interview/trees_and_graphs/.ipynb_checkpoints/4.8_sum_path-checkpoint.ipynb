{
 "cells": [
  {
   "cell_type": "markdown",
   "metadata": {},
   "source": [
    "#### 4.8  You are given a binary tree in which each node contains a value. Design an algorithm to print all paths which sum up to that value. Note that it can be any path in the tree - it does not have to start at the root."
   ]
  },
  {
   "cell_type": "code",
   "execution_count": 1,
   "metadata": {},
   "outputs": [],
   "source": [
    "class Node:\n",
    "    def __init__(self,data):\n",
    "        self.data  = data\n",
    "        self.left  = None\n",
    "        self.right = None"
   ]
  },
  {
   "cell_type": "code",
   "execution_count": 3,
   "metadata": {},
   "outputs": [],
   "source": [
    "def print_path_util(current_node,value,sum_so_far,path):\n",
    "    \n",
    "    if not current_node:\n",
    "        return\n",
    "    \n",
    "    ## Add current node\n",
    "    path.append(current_node)\n",
    "    \n",
    "    sum_so_far += current_node.data\n",
    "    \n",
    "    if sum_so_far==value:\n",
    "        for i in path:\n",
    "            print(i,end=\" \")\n",
    "    \n",
    "    if current_node.left:\n",
    "        print_path_util(current_node.left,value,sum_so_far,path)\n",
    "        \n",
    "    if current_node.right:\n",
    "        print_path_util(current_node.right,value,sum_so_far,path)\n",
    "    path.pop()"
   ]
  },
  {
   "cell_type": "code",
   "execution_count": 2,
   "metadata": {},
   "outputs": [],
   "source": [
    "def print_path(root,value):\n",
    "    path = []\n",
    "    print_path_util(root,value,0,path)"
   ]
  }
 ],
 "metadata": {
  "kernelspec": {
   "display_name": "Python 3",
   "language": "python",
   "name": "python3"
  },
  "language_info": {
   "codemirror_mode": {
    "name": "ipython",
    "version": 3
   },
   "file_extension": ".py",
   "mimetype": "text/x-python",
   "name": "python",
   "nbconvert_exporter": "python",
   "pygments_lexer": "ipython3",
   "version": "3.7.4"
  }
 },
 "nbformat": 4,
 "nbformat_minor": 4
}
