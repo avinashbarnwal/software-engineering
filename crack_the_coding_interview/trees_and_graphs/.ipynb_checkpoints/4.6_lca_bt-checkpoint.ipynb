{
 "cells": [
  {
   "cell_type": "markdown",
   "metadata": {},
   "source": [
    "### 4.6 Design an algorithm and write code to find the  rst common ancestor of two nodes in a binary tree. Avoid storing additional nodes in a data structure. NOTE: This is not necessarily a binary search tree."
   ]
  },
  {
   "cell_type": "code",
   "execution_count": 2,
   "metadata": {},
   "outputs": [],
   "source": [
    "def find_lca(root,n1,n2):\n",
    "    \n",
    "    if not root:\n",
    "        return None\n",
    "    \n",
    "    left_lca  = find_lca(root.left,n1,n2)\n",
    "    right_lca = find_lca(root.right,n1,n2)\n",
    "    \n",
    "    if left_lca and right_lca:\n",
    "        return root\n",
    "\n",
    "    return left_lca if left_lca is not None else right_lca"
   ]
  }
 ],
 "metadata": {
  "kernelspec": {
   "display_name": "Python 3",
   "language": "python",
   "name": "python3"
  },
  "language_info": {
   "codemirror_mode": {
    "name": "ipython",
    "version": 3
   },
   "file_extension": ".py",
   "mimetype": "text/x-python",
   "name": "python",
   "nbconvert_exporter": "python",
   "pygments_lexer": "ipython3",
   "version": "3.7.4"
  }
 },
 "nbformat": 4,
 "nbformat_minor": 4
}
