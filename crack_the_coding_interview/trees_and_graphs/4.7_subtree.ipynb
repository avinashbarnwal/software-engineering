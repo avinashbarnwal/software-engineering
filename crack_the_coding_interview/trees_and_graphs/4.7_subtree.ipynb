{
 "cells": [
  {
   "cell_type": "markdown",
   "metadata": {},
   "source": [
    "#### 4.7 You have two very large binary trees: T1, with millions of nodes, and T2, with hun- dreds of nodes. Create an algorithm to decide if T2 is a subtree of T1."
   ]
  },
  {
   "cell_type": "code",
   "execution_count": null,
   "metadata": {},
   "outputs": [],
   "source": [
    "class Solution(object):\n",
    "    \n",
    "    def isSubtree(self, s, t):\n",
    "        \"\"\"\n",
    "        :type s: TreeNode\n",
    "        :type t: TreeNode\n",
    "        :rtype: bool\n",
    "        \"\"\"\n",
    "        return self.traverse(s,t)\n",
    "    \n",
    "    def traverse(self,s,t):\n",
    "        return s and (self.equals(s,t) or self.traverse(s.left,t) or self.traverse(s.right,t))\n",
    "    \n",
    "    def equals(self,x,y):\n",
    "        if not x and not y:\n",
    "            return True\n",
    "        if not x or not y:\n",
    "            return False\n",
    "        return (x.val==y.val) and (self.equals(x.left,y.left) and self.equals(x.right,y.right))"
   ]
  }
 ],
 "metadata": {
  "kernelspec": {
   "display_name": "Python 3",
   "language": "python",
   "name": "python3"
  },
  "language_info": {
   "codemirror_mode": {
    "name": "ipython",
    "version": 3
   },
   "file_extension": ".py",
   "mimetype": "text/x-python",
   "name": "python",
   "nbconvert_exporter": "python",
   "pygments_lexer": "ipython3",
   "version": "3.7.4"
  }
 },
 "nbformat": 4,
 "nbformat_minor": 4
}
