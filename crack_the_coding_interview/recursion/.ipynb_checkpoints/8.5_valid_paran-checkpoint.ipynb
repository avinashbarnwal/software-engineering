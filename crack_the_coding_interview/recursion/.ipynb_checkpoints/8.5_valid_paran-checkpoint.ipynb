{
 "cells": [
  {
   "cell_type": "code",
   "execution_count": 9,
   "metadata": {},
   "outputs": [],
   "source": [
    "def generate(res,n,A):\n",
    "    if len(A)==2*n:\n",
    "        if is_valid(A):\n",
    "            res.append(A[:])\n",
    "    else:\n",
    "        A.append('(')\n",
    "        generate(res,n,A)\n",
    "        A.pop()\n",
    "        A.append(')')\n",
    "        generate(res,n,A)\n",
    "        A.pop()"
   ]
  },
  {
   "cell_type": "code",
   "execution_count": 16,
   "metadata": {},
   "outputs": [],
   "source": [
    "def is_valid(A):\n",
    "    bal = 0\n",
    "    for i in range(len(A)):\n",
    "        if A[i]==\"(\":\n",
    "            bal+=1\n",
    "        if A[i]==\")\":\n",
    "            bal-=1\n",
    "        if bal<0:\n",
    "            return False\n",
    "    return True if bal==0 else False"
   ]
  },
  {
   "cell_type": "code",
   "execution_count": 17,
   "metadata": {},
   "outputs": [],
   "source": [
    "res = []\n",
    "generate(res,3,[])"
   ]
  },
  {
   "cell_type": "code",
   "execution_count": 18,
   "metadata": {},
   "outputs": [
    {
     "data": {
      "text/plain": [
       "[['(', '(', '(', ')', ')', ')'],\n",
       " ['(', '(', ')', '(', ')', ')'],\n",
       " ['(', '(', ')', ')', '(', ')'],\n",
       " ['(', ')', '(', '(', ')', ')'],\n",
       " ['(', ')', '(', ')', '(', ')']]"
      ]
     },
     "execution_count": 18,
     "metadata": {},
     "output_type": "execute_result"
    }
   ],
   "source": [
    "res"
   ]
  },
  {
   "cell_type": "code",
   "execution_count": null,
   "metadata": {},
   "outputs": [],
   "source": []
  }
 ],
 "metadata": {
  "kernelspec": {
   "display_name": "Python 3",
   "language": "python",
   "name": "python3"
  },
  "language_info": {
   "codemirror_mode": {
    "name": "ipython",
    "version": 3
   },
   "file_extension": ".py",
   "mimetype": "text/x-python",
   "name": "python",
   "nbconvert_exporter": "python",
   "pygments_lexer": "ipython3",
   "version": "3.7.4"
  }
 },
 "nbformat": 4,
 "nbformat_minor": 4
}
