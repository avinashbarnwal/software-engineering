{
 "cells": [
  {
   "cell_type": "markdown",
   "metadata": {},
   "source": [
    "### 8 Queens not conflicting"
   ]
  },
  {
   "cell_type": "code",
   "execution_count": 13,
   "metadata": {},
   "outputs": [],
   "source": [
    "def solveNQUtil(board, col): \n",
    "      \n",
    "    # base case: If all queens are placed \n",
    "    # then return true \n",
    "    if col >= N: \n",
    "        return True\n",
    "  \n",
    "    # Consider this column and try placing \n",
    "    # this queen in all rows one by one \n",
    "    for i in range(N): \n",
    "  \n",
    "        if isSafe(board, i, col):\n",
    "              \n",
    "            # Place this queen in board[i][col] \n",
    "            board[i][col] = 1\n",
    "  \n",
    "            # recur to place rest of the queens \n",
    "            if solveNQUtil(board, col + 1) == True: \n",
    "                return True\n",
    "  \n",
    "            # If placing queen in board[i][col \n",
    "            # doesn't lead to a solution, then \n",
    "            # queen from board[i][col] \n",
    "            board[i][col] = 0\n",
    "  \n",
    "    # if the queen can not be placed in any row in \n",
    "    # this colum col then return false \n",
    "    return False"
   ]
  },
  {
   "cell_type": "code",
   "execution_count": 14,
   "metadata": {},
   "outputs": [],
   "source": [
    "def isSafe(board, row, col): \n",
    "  \n",
    "    # Check this row on left side \n",
    "    for i in range(col): \n",
    "        if board[row][i] == 1: \n",
    "            return False\n",
    "  \n",
    "    # Check upper diagonal on left side \n",
    "    for i, j in zip(range(row, -1, -1),  \n",
    "                    range(col, -1, -1)): \n",
    "        if board[i][j] == 1: \n",
    "            return False\n",
    "  \n",
    "    # Check lower diagonal on left side \n",
    "    for i, j in zip(range(row, N, 1),  \n",
    "                    range(col, -1, -1)): \n",
    "        if board[i][j] == 1: \n",
    "            return False\n",
    "  \n",
    "    return True"
   ]
  },
  {
   "cell_type": "code",
   "execution_count": 15,
   "metadata": {},
   "outputs": [],
   "source": [
    "def solveNQ(): \n",
    "    board = [ [0, 0, 0, 0], \n",
    "              [0, 0, 0, 0], \n",
    "              [0, 0, 0, 0], \n",
    "              [0, 0, 0, 0] ] \n",
    "  \n",
    "    if solveNQUtil(board, 0) == False: \n",
    "        print (\"Solution does not exist\") \n",
    "        return False\n",
    "  \n",
    "    printSolution(board) "
   ]
  },
  {
   "cell_type": "code",
   "execution_count": 16,
   "metadata": {},
   "outputs": [],
   "source": [
    "global N \n",
    "N = 4\n",
    "  \n",
    "def printSolution(board): \n",
    "    for i in range(N): \n",
    "        for j in range(N): \n",
    "            print (board[i][j], end = \" \") \n",
    "        print()  "
   ]
  },
  {
   "cell_type": "code",
   "execution_count": 17,
   "metadata": {},
   "outputs": [
    {
     "name": "stdout",
     "output_type": "stream",
     "text": [
      "0 0 1 0 \n",
      "1 0 0 0 \n",
      "0 0 0 1 \n",
      "0 1 0 0 \n"
     ]
    }
   ],
   "source": [
    "solveNQ()"
   ]
  }
 ],
 "metadata": {
  "kernelspec": {
   "display_name": "Python 3",
   "language": "python",
   "name": "python3"
  },
  "language_info": {
   "codemirror_mode": {
    "name": "ipython",
    "version": 3
   },
   "file_extension": ".py",
   "mimetype": "text/x-python",
   "name": "python",
   "nbconvert_exporter": "python",
   "pygments_lexer": "ipython3",
   "version": "3.7.4"
  }
 },
 "nbformat": 4,
 "nbformat_minor": 4
}
