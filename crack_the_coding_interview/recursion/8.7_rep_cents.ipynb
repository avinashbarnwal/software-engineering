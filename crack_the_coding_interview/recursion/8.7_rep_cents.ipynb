{
 "cells": [
  {
   "cell_type": "markdown",
   "metadata": {},
   "source": [
    "### 8.7 Given an in nite number of quarters (25 cents), dimes (10 cents), nickels (5 cents) and pennies (1 cent), write code to calculate the number of ways of representing n cents."
   ]
  },
  {
   "cell_type": "code",
   "execution_count": 1,
   "metadata": {},
   "outputs": [],
   "source": [
    "def makeChange(n,denom):\n",
    "    \n",
    "    if denom==25:\n",
    "        next_denom=10\n",
    "    if denom==10:\n",
    "        next_denom=5\n",
    "    if denom==5:\n",
    "        next_denom=1\n",
    "    if denom==1:\n",
    "        return 1\n",
    "    ways     = 0\n",
    "    no_times = n//denom\n",
    "    for i in range(0,n//denom):\n",
    "        ways+=makeChange(n-i*denom,next_denom)\n",
    "        \n",
    "    return ways"
   ]
  },
  {
   "cell_type": "code",
   "execution_count": 13,
   "metadata": {},
   "outputs": [
    {
     "data": {
      "text/plain": [
       "1"
      ]
     },
     "execution_count": 13,
     "metadata": {},
     "output_type": "execute_result"
    }
   ],
   "source": [
    "makeChange(5, 5)"
   ]
  }
 ],
 "metadata": {
  "kernelspec": {
   "display_name": "Python 3",
   "language": "python",
   "name": "python3"
  },
  "language_info": {
   "codemirror_mode": {
    "name": "ipython",
    "version": 3
   },
   "file_extension": ".py",
   "mimetype": "text/x-python",
   "name": "python",
   "nbconvert_exporter": "python",
   "pygments_lexer": "ipython3",
   "version": "3.7.4"
  }
 },
 "nbformat": 4,
 "nbformat_minor": 4
}
