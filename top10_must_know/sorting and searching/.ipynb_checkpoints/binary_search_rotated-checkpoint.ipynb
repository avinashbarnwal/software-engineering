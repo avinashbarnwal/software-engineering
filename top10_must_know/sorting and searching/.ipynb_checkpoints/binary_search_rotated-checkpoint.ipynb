{
 "cells": [
  {
   "cell_type": "code",
   "execution_count": 9,
   "metadata": {},
   "outputs": [],
   "source": [
    "def findPivot(arr,l,r):\n",
    "    if r<l:\n",
    "        return -1\n",
    "    mid = (l+r)//2\n",
    "    if mid<r and arr[mid]>arr[mid+1]:\n",
    "        return mid\n",
    "    if mid>l and arr[mid-1]>arr[mid]:\n",
    "        return mid-1\n",
    "    if arr[l]>=arr[mid]:\n",
    "        return findPivot(arr,l,mid-1)\n",
    "    else:\n",
    "        return findPivot(arr,mid+1,r)"
   ]
  },
  {
   "cell_type": "code",
   "execution_count": 14,
   "metadata": {},
   "outputs": [],
   "source": [
    "def pivotedBinarySearch(arr,key):\n",
    "    n = len(arr)\n",
    "    pivot = findPivot(arr,0,n-1)\n",
    "    if arr[pivot] == key:\n",
    "        return pivot\n",
    "    elif arr[0]<=key:\n",
    "        return binarySearch(arr,0,pivot-1,key)\n",
    "    else:\n",
    "        return binarySearch(arr,pivot+1,n-1,key)"
   ]
  },
  {
   "cell_type": "code",
   "execution_count": 15,
   "metadata": {},
   "outputs": [],
   "source": [
    "def binarySearch(arr,l,r,key):\n",
    "    \n",
    "    while l<=r:\n",
    "        mid = (l+r)//2\n",
    "        if arr[mid]==key:\n",
    "            return mid\n",
    "        elif arr[mid]<key:\n",
    "            l = mid+1\n",
    "        else:\n",
    "            r = mid-1\n",
    "    return -1"
   ]
  },
  {
   "cell_type": "code",
   "execution_count": 12,
   "metadata": {},
   "outputs": [],
   "source": [
    "arr  = [3, 4, 5, 6, 1, 2]\n",
    "n    = len(arr)"
   ]
  },
  {
   "cell_type": "code",
   "execution_count": 18,
   "metadata": {},
   "outputs": [
    {
     "data": {
      "text/plain": [
       "4"
      ]
     },
     "execution_count": 18,
     "metadata": {},
     "output_type": "execute_result"
    }
   ],
   "source": [
    "pivotedBinarySearch(arr,1)"
   ]
  }
 ],
 "metadata": {
  "kernelspec": {
   "display_name": "Python 3",
   "language": "python",
   "name": "python3"
  },
  "language_info": {
   "codemirror_mode": {
    "name": "ipython",
    "version": 3
   },
   "file_extension": ".py",
   "mimetype": "text/x-python",
   "name": "python",
   "nbconvert_exporter": "python",
   "pygments_lexer": "ipython3",
   "version": "3.7.4"
  }
 },
 "nbformat": 4,
 "nbformat_minor": 4
}
