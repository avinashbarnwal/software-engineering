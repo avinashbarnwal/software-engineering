{
 "cells": [
  {
   "cell_type": "code",
   "execution_count": 22,
   "metadata": {},
   "outputs": [],
   "source": [
    "from collections import defaultdict\n",
    "class Graph:\n",
    "    def __init__(self):\n",
    "        self.graph = defaultdict(list)\n",
    "    def addEdge(self,u,v):\n",
    "        self.graph[u].append(v)\n",
    "    def bfs(self,s):\n",
    "        nNodes  = len(self.graph.keys())\n",
    "        visited = [False]*nNodes\n",
    "        queue   = []\n",
    "        queue.append(s)\n",
    "        visited[s] = True\n",
    "        while queue:\n",
    "            v = queue.pop(0)\n",
    "            print(\"Visited Node=\",v)\n",
    "            for neighbor in self.graph[v]:\n",
    "                if visited[neighbor]==False:\n",
    "                    queue.append(neighbor)\n",
    "                    visited[neighbor]=True   "
   ]
  },
  {
   "cell_type": "code",
   "execution_count": 19,
   "metadata": {},
   "outputs": [],
   "source": [
    "graph = Graph()"
   ]
  },
  {
   "cell_type": "code",
   "execution_count": 20,
   "metadata": {},
   "outputs": [],
   "source": [
    "graph.addEdge(0,1)\n",
    "graph.addEdge(1,2)\n",
    "graph.addEdge(2,3)\n",
    "graph.addEdge(3,3)"
   ]
  },
  {
   "cell_type": "code",
   "execution_count": 21,
   "metadata": {},
   "outputs": [
    {
     "name": "stdout",
     "output_type": "stream",
     "text": [
      "Visited Node= 0\n",
      "1\n",
      "Visited Node= 1\n",
      "2\n",
      "Visited Node= 2\n",
      "3\n",
      "Visited Node= 3\n",
      "3\n"
     ]
    }
   ],
   "source": [
    "graph.bfs(0)"
   ]
  }
 ],
 "metadata": {
  "kernelspec": {
   "display_name": "Python 3",
   "language": "python",
   "name": "python3"
  },
  "language_info": {
   "codemirror_mode": {
    "name": "ipython",
    "version": 3
   },
   "file_extension": ".py",
   "mimetype": "text/x-python",
   "name": "python",
   "nbconvert_exporter": "python",
   "pygments_lexer": "ipython3",
   "version": "3.7.4"
  }
 },
 "nbformat": 4,
 "nbformat_minor": 4
}
