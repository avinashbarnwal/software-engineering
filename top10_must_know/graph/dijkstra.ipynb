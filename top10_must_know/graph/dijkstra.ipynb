{
 "cells": [
  {
   "cell_type": "code",
   "execution_count": 23,
   "metadata": {},
   "outputs": [],
   "source": [
    "class Graph:\n",
    "    \n",
    "    def __init__(self,vertices):\n",
    "        \n",
    "        self.V     = vertices\n",
    "        self.graph = [[0 for column in range(vertices)] for row in range(vertices)]\n",
    "    \n",
    "    def mindistance(self,dist,visited):\n",
    "        \n",
    "        min_dist  = float('inf')\n",
    "        n         = len(dist)\n",
    "        min_index = float('inf')\n",
    "        \n",
    "        for i in range(n):\n",
    "            if dist[i]<min_dist and visited[i]==False:\n",
    "                min_dist=dist[i]\n",
    "                min_index = i\n",
    "        return min_index\n",
    "    \n",
    "    def dijkstra(self,src):\n",
    "        \n",
    "        visited   = [False]*self.V\n",
    "        dist      = [float('inf')]*self.V\n",
    "        dist[src] = 0\n",
    "        for cout in range(self.V):\n",
    "            u = self.mindistance(dist,visited)\n",
    "            visited[u] = True\n",
    "            for v in range(self.V):\n",
    "                if (self.graph[u][v] > 0) and (visited[v]==False) and (dist[u]+self.graph[u][v]<dist[v]):\n",
    "                    dist[v]=dist[u]+self.graph[u][v]\n",
    "        return dist"
   ]
  },
  {
   "cell_type": "code",
   "execution_count": 19,
   "metadata": {},
   "outputs": [],
   "source": [
    "g = Graph(9)\n",
    "g.graph = [[0, 4, 0, 0, 0, 0, 0, 8, 0], \n",
    "            [4, 0, 8, 0, 0, 0, 0, 11, 0], \n",
    "        [0, 8, 0, 7, 0, 4, 0, 0, 2], \n",
    "        [0, 0, 7, 0, 9, 14, 0, 0, 0], \n",
    "        [0, 0, 0, 9, 0, 10, 0, 0, 0], \n",
    "        [0, 0, 4, 14, 10, 0, 2, 0, 0], \n",
    "        [0, 0, 0, 0, 0, 2, 0, 1, 6], \n",
    "        [8, 11, 0, 0, 0, 0, 1, 0, 7], \n",
    "        [0, 0, 2, 0, 0, 0, 6, 7, 0] \n",
    "        ]"
   ]
  },
  {
   "cell_type": "code",
   "execution_count": 24,
   "metadata": {},
   "outputs": [
    {
     "data": {
      "text/plain": [
       "[[0, 4, 0, 0, 0, 0, 0, 8, 0],\n",
       " [4, 0, 8, 0, 0, 0, 0, 11, 0],\n",
       " [0, 8, 0, 7, 0, 4, 0, 0, 2],\n",
       " [0, 0, 7, 0, 9, 14, 0, 0, 0],\n",
       " [0, 0, 0, 9, 0, 10, 0, 0, 0],\n",
       " [0, 0, 4, 14, 10, 0, 2, 0, 0],\n",
       " [0, 0, 0, 0, 0, 2, 0, 1, 6],\n",
       " [8, 11, 0, 0, 0, 0, 1, 0, 7],\n",
       " [0, 0, 2, 0, 0, 0, 6, 7, 0]]"
      ]
     },
     "execution_count": 24,
     "metadata": {},
     "output_type": "execute_result"
    }
   ],
   "source": [
    "g.graph"
   ]
  },
  {
   "cell_type": "code",
   "execution_count": 25,
   "metadata": {},
   "outputs": [
    {
     "name": "stdout",
     "output_type": "stream",
     "text": [
      "0\n",
      "4\n",
      "0\n",
      "0\n",
      "0\n",
      "0\n",
      "0\n",
      "8\n",
      "0\n",
      "4\n",
      "0\n",
      "8\n",
      "0\n",
      "0\n",
      "0\n",
      "0\n",
      "11\n",
      "0\n",
      "8\n",
      "11\n",
      "0\n",
      "0\n",
      "0\n",
      "0\n",
      "1\n",
      "0\n",
      "7\n",
      "0\n",
      "0\n",
      "0\n",
      "0\n",
      "0\n",
      "2\n",
      "0\n",
      "1\n",
      "6\n",
      "0\n",
      "0\n",
      "4\n",
      "14\n",
      "10\n",
      "0\n",
      "2\n",
      "0\n",
      "0\n",
      "0\n",
      "8\n",
      "0\n",
      "7\n",
      "0\n",
      "4\n",
      "0\n",
      "0\n",
      "2\n",
      "0\n",
      "0\n",
      "2\n",
      "0\n",
      "0\n",
      "0\n",
      "6\n",
      "7\n",
      "0\n",
      "0\n",
      "0\n",
      "7\n",
      "0\n",
      "9\n",
      "14\n",
      "0\n",
      "0\n",
      "0\n",
      "0\n",
      "0\n",
      "0\n",
      "9\n",
      "0\n",
      "10\n",
      "0\n",
      "0\n",
      "0\n"
     ]
    },
    {
     "data": {
      "text/plain": [
       "[0, 4, 12, 19, 21, 11, 9, 8, 14]"
      ]
     },
     "execution_count": 25,
     "metadata": {},
     "output_type": "execute_result"
    }
   ],
   "source": [
    "g.dijkstra(0)"
   ]
  }
 ],
 "metadata": {
  "kernelspec": {
   "display_name": "Python 3",
   "language": "python",
   "name": "python3"
  },
  "language_info": {
   "codemirror_mode": {
    "name": "ipython",
    "version": 3
   },
   "file_extension": ".py",
   "mimetype": "text/x-python",
   "name": "python",
   "nbconvert_exporter": "python",
   "pygments_lexer": "ipython3",
   "version": "3.7.4"
  }
 },
 "nbformat": 4,
 "nbformat_minor": 4
}
