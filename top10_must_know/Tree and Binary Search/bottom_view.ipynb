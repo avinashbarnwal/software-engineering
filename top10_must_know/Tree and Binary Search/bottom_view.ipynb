{
 "cells": [
  {
   "cell_type": "markdown",
   "metadata": {},
   "source": [
    "##### Declare Level extra node.level and we dont need to initiate also"
   ]
  },
  {
   "cell_type": "code",
   "execution_count": 14,
   "metadata": {},
   "outputs": [],
   "source": [
    "class Node:\n",
    "    def __init__(self,data):\n",
    "        self.data  = data\n",
    "        self.left  = None\n",
    "        self.right = None"
   ]
  },
  {
   "cell_type": "code",
   "execution_count": 25,
   "metadata": {},
   "outputs": [],
   "source": [
    "def print_bottom_view(root):\n",
    "    if not root:\n",
    "        return\n",
    "    # res is there to calculate\n",
    "    res = {}\n",
    "    root.level = 0\n",
    "    queue = []\n",
    "    queue.append(root)\n",
    "    while queue:\n",
    "        node = queue.pop(0)\n",
    "        res[node.level] = node.data\n",
    "        if node.left:\n",
    "            node.left.level = node.level -1\n",
    "            queue.append(node.left)\n",
    "        if node.right:\n",
    "            node.right.level = node.level+1\n",
    "            queue.append(node.right)\n",
    "    return sorted(res.items())"
   ]
  },
  {
   "cell_type": "code",
   "execution_count": 26,
   "metadata": {},
   "outputs": [],
   "source": [
    "root                   = Node(1)\n",
    "root.left              = Node(2)\n",
    "root.right             = Node(3)\n",
    "root.right.left        = Node(5)\n",
    "root.right.right       = Node(6)\n",
    "root.right.left.left   = Node(7)\n",
    "root.right.left.right  = Node(8)"
   ]
  },
  {
   "cell_type": "code",
   "execution_count": 27,
   "metadata": {},
   "outputs": [
    {
     "data": {
      "text/plain": [
       "[(-1, 7), (0, 5), (1, 8), (2, 6)]"
      ]
     },
     "execution_count": 27,
     "metadata": {},
     "output_type": "execute_result"
    }
   ],
   "source": [
    "print_bottom_view(root)"
   ]
  }
 ],
 "metadata": {
  "kernelspec": {
   "display_name": "Python 3",
   "language": "python",
   "name": "python3"
  },
  "language_info": {
   "codemirror_mode": {
    "name": "ipython",
    "version": 3
   },
   "file_extension": ".py",
   "mimetype": "text/x-python",
   "name": "python",
   "nbconvert_exporter": "python",
   "pygments_lexer": "ipython3",
   "version": "3.7.4"
  }
 },
 "nbformat": 4,
 "nbformat_minor": 4
}
