{
 "cells": [
  {
   "cell_type": "code",
   "execution_count": 6,
   "metadata": {},
   "outputs": [],
   "source": [
    "class Node:\n",
    "    def __init__(self,data):\n",
    "        self.data = data\n",
    "        self.left = None\n",
    "        self.right = None\n",
    "\n",
    "def print_top_view(root):\n",
    "    res   = {}\n",
    "    queue = []\n",
    "    root.level = 0\n",
    "    res[root.level] = root.data\n",
    "    queue.append(root)\n",
    "    while queue:\n",
    "        node = queue.pop(0)\n",
    "        if node.left:\n",
    "            node.left.level = node.level-1\n",
    "            if node.left.level not in res:\n",
    "                res[node.left.level] = node.left.data\n",
    "            queue.append(node.left)\n",
    "        if node.right:\n",
    "            node.right.level = node.level+1\n",
    "            if node.right.level not in res:\n",
    "                res[node.right.level] = node.right.data\n",
    "            queue.append(node.right)\n",
    "    return sorted(res.items())"
   ]
  },
  {
   "cell_type": "code",
   "execution_count": 7,
   "metadata": {},
   "outputs": [],
   "source": [
    "root                   = Node(1)\n",
    "root.left              = Node(2)\n",
    "root.right             = Node(3)\n",
    "root.right.left        = Node(5)\n",
    "root.right.right       = Node(6)\n",
    "root.right.left.left   = Node(7)\n",
    "root.right.left.right  = Node(8)"
   ]
  },
  {
   "cell_type": "code",
   "execution_count": 8,
   "metadata": {},
   "outputs": [
    {
     "data": {
      "text/plain": [
       "[(-1, 2), (0, 1), (1, 3), (2, 6)]"
      ]
     },
     "execution_count": 8,
     "metadata": {},
     "output_type": "execute_result"
    }
   ],
   "source": [
    "print_top_view(root)"
   ]
  }
 ],
 "metadata": {
  "kernelspec": {
   "display_name": "Python 3",
   "language": "python",
   "name": "python3"
  },
  "language_info": {
   "codemirror_mode": {
    "name": "ipython",
    "version": 3
   },
   "file_extension": ".py",
   "mimetype": "text/x-python",
   "name": "python",
   "nbconvert_exporter": "python",
   "pygments_lexer": "ipython3",
   "version": "3.7.4"
  }
 },
 "nbformat": 4,
 "nbformat_minor": 4
}
