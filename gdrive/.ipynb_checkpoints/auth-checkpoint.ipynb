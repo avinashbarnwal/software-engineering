{
 "cells": [
  {
   "cell_type": "code",
   "execution_count": 7,
   "metadata": {},
   "outputs": [],
   "source": [
    "from pydrive.auth import GoogleAuth\n",
    "from pydrive.drive import GoogleDrive\n",
    "import os,sys"
   ]
  },
  {
   "cell_type": "code",
   "execution_count": 12,
   "metadata": {},
   "outputs": [
    {
     "name": "stdout",
     "output_type": "stream",
     "text": [
      "Your browser has been opened to visit:\n",
      "\n",
      "    https://accounts.google.com/o/oauth2/auth?client_id=921025877757-gk0kq0lbqkikdkoeg3f8foecfd2fc0v9.apps.googleusercontent.com&redirect_uri=http%3A%2F%2Flocalhost%3A8080%2F&scope=https%3A%2F%2Fwww.googleapis.com%2Fauth%2Fdrive&access_type=offline&response_type=code\n",
      "\n",
      "Authentication successful.\n"
     ]
    }
   ],
   "source": [
    "g_login = GoogleAuth()\n",
    "g_login.LocalWebserverAuth()\n",
    "drive   = GoogleDrive(g_login)"
   ]
  },
  {
   "cell_type": "code",
   "execution_count": 39,
   "metadata": {},
   "outputs": [],
   "source": [
    "file_kaggle = drive.ListFile({'q': \"'root' in parents and trashed=false\"}).GetList()"
   ]
  },
  {
   "cell_type": "code",
   "execution_count": 56,
   "metadata": {},
   "outputs": [],
   "source": [
    "for file1 in file_list:       \n",
    "    if file1['title'] == \"Kaggle\":\n",
    "        kaggle_id = file1['id']"
   ]
  },
  {
   "cell_type": "markdown",
   "metadata": {},
   "source": [
    "#kaggle_id = '1s0Fjnds_B7q-wmafbUhROqOYiYi9AhWy'"
   ]
  },
  {
   "cell_type": "code",
   "execution_count": 58,
   "metadata": {},
   "outputs": [],
   "source": [
    "file_santander = drive.ListFile({'q': \"'1s0Fjnds_B7q-wmafbUhROqOYiYi9AhWy' in parents and trashed=false\"}).GetList()"
   ]
  },
  {
   "cell_type": "code",
   "execution_count": null,
   "metadata": {},
   "outputs": [],
   "source": [
    "file_santander = drive.ListFile({\"parents\":  [{\"id\": santander_id}]}).GetList()"
   ]
  },
  {
   "cell_type": "code",
   "execution_count": 62,
   "metadata": {},
   "outputs": [],
   "source": [
    "for file1 in file_santander:       \n",
    "    if file1['title'] == \"Santander\":\n",
    "        santander_id = file1['id']"
   ]
  },
  {
   "cell_type": "code",
   "execution_count": 65,
   "metadata": {},
   "outputs": [],
   "source": [
    "child_folder = drive.CreateFile({'title': 'src', 'parents':[{'id':'1A3S2SN4-jUQZbBDSMALziEl3Cg484GVH'}]})\n",
    "child_folder.Upload()"
   ]
  },
  {
   "cell_type": "code",
   "execution_count": 29,
   "metadata": {},
   "outputs": [],
   "source": [
    "with open(\"../../../Machine_Learning/Kaggle_Competitions/santander_kaggle/src/000_data_input.ipynb\",\"r\") as file:\n",
    "    file_drive = drive.CreateFile({'title':os.path.basename(file.name)})  \n",
    "    file_drive.SetContentString(file.read()) \n",
    "    file_drive.Upload()"
   ]
  },
  {
   "cell_type": "code",
   "execution_count": 66,
   "metadata": {},
   "outputs": [],
   "source": [
    "child_folder = drive.CreateFile({'title': 'src', \n",
    "                                 \"parents\":  [{\"id\": santander_id}], \n",
    "                                 \"mimeType\": \"application/vnd.google-apps.folder\"})\n",
    "child_folder.Upload()"
   ]
  }
 ],
 "metadata": {
  "kernelspec": {
   "display_name": "Python 3",
   "language": "python",
   "name": "python3"
  },
  "language_info": {
   "codemirror_mode": {
    "name": "ipython",
    "version": 3
   },
   "file_extension": ".py",
   "mimetype": "text/x-python",
   "name": "python",
   "nbconvert_exporter": "python",
   "pygments_lexer": "ipython3",
   "version": "3.7.3"
  }
 },
 "nbformat": 4,
 "nbformat_minor": 2
}
