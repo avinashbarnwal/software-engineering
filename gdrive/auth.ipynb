{
 "cells": [
  {
   "cell_type": "code",
   "execution_count": 1,
   "metadata": {},
   "outputs": [],
   "source": [
    "from pydrive.auth import GoogleAuth\n",
    "from pydrive.drive import GoogleDrive\n",
    "import os,sys"
   ]
  },
  {
   "cell_type": "code",
   "execution_count": 2,
   "metadata": {},
   "outputs": [],
   "source": [
    "def getLogin():\n",
    "    g_login = GoogleAuth()\n",
    "    g_login.LocalWebserverAuth()\n",
    "    drive   = GoogleDrive(g_login)\n",
    "    return drive"
   ]
  },
  {
   "cell_type": "code",
   "execution_count": 3,
   "metadata": {},
   "outputs": [],
   "source": [
    "def getIdlist(drive,parent_id='root'):\n",
    "    file_list = drive.ListFile({'q': \"'%s' in parents and trashed=false\"%parent_id}).GetList()\n",
    "    return file_list"
   ]
  },
  {
   "cell_type": "code",
   "execution_count": 4,
   "metadata": {},
   "outputs": [],
   "source": [
    "def getFolderId(name,file_list):\n",
    "    name_id = ''\n",
    "    for file in file_list:       \n",
    "        if file['title'] == name:\n",
    "            name_id = file['id']\n",
    "    return name_id    "
   ]
  },
  {
   "cell_type": "code",
   "execution_count": 5,
   "metadata": {},
   "outputs": [],
   "source": [
    "def createFolder(drive,folder_name,parent_id):\n",
    "    \n",
    "    child_folder = drive.CreateFile({'title': folder_name, \n",
    "                                     \"parents\":  [{\"id\": parent_id}], \n",
    "                                     \"mimeType\": \"application/vnd.google-apps.folder\"})\n",
    "    child_folder.Upload()"
   ]
  },
  {
   "cell_type": "code",
   "execution_count": null,
   "metadata": {},
   "outputs": [],
   "source": [
    "def addFileToFolder(file_path,parent_id=None):\n",
    "    with open(file_path,\"r\") as file:\n",
    "        file_drive = drive.CreateFile({'title':os.path.basename(file.name),\"parents\":  [{\"id\": parent_id}]})  \n",
    "        file_drive.SetContentString(file.read()) \n",
    "        file_drive.Upload()"
   ]
  },
  {
   "cell_type": "code",
   "execution_count": 6,
   "metadata": {},
   "outputs": [
    {
     "name": "stdout",
     "output_type": "stream",
     "text": [
      "Your browser has been opened to visit:\n",
      "\n",
      "    https://accounts.google.com/o/oauth2/auth?client_id=921025877757-gk0kq0lbqkikdkoeg3f8foecfd2fc0v9.apps.googleusercontent.com&redirect_uri=http%3A%2F%2Flocalhost%3A8080%2F&scope=https%3A%2F%2Fwww.googleapis.com%2Fauth%2Fdrive&access_type=offline&response_type=code\n",
      "\n",
      "Authentication successful.\n"
     ]
    }
   ],
   "source": [
    "drive        = getLogin()"
   ]
  },
  {
   "cell_type": "code",
   "execution_count": 7,
   "metadata": {},
   "outputs": [],
   "source": [
    "file_root    = getIdlist(drive)\n",
    "kaggle_id    = getFolderId(\"Kaggle\",file_root)\n",
    "file_kaggle  = getIdlist(drive,parent_id=kaggle_id)\n",
    "santander_id = getFolderId(\"Santander\",file_kaggle)\n",
    "createFolder(drive,'src',santander_id)\n",
    "createFolder(drive,'kfolds',santander_id)\n",
    "createFolder(drive,'model_predictions',santander_id)\n",
    "createFolder(drive,'model_source',santander_id)\n",
    "createFolder(drive,'paper',santander_id)\n",
    "createFolder(drive,'submissions',santander_id)"
   ]
  },
  {
   "cell_type": "code",
   "execution_count": 23,
   "metadata": {},
   "outputs": [],
   "source": [
    "file_santander                = getIdlist(drive,parent_id   = santander_id)\n",
    "src_id                        = getFolderId(\"src\",file_santander)\n",
    "paper_id                      = getFolderId(\"paper\",file_santander)\n",
    "kfolds_id                     = getFolderId(\"kfolds\",file_santander)\n",
    "model_predictions_id          = getFolderId(\"model_predictions\",file_santander)\n",
    "model_source_id               = getFolderId(\"model_source\",file_santander)\n",
    "submissions_id                = getFolderId(\"submissions\",file_santander)"
   ]
  },
  {
   "cell_type": "code",
   "execution_count": 21,
   "metadata": {},
   "outputs": [
    {
     "data": {
      "text/plain": [
       "['.DS_Store',\n",
       " '.git',\n",
       " '.gitignore',\n",
       " '.ipynb_checkpoints',\n",
       " '.tmp.drivedownload',\n",
       " 'data',\n",
       " 'kfolds',\n",
       " 'model_predictions',\n",
       " 'model_source',\n",
       " 'paper',\n",
       " 'README.md',\n",
       " 'src',\n",
       " 'submissions']"
      ]
     },
     "execution_count": 21,
     "metadata": {},
     "output_type": "execute_result"
    }
   ],
   "source": [
    "os.listdir(\"../../../Machine_Learning/Kaggle_Competitions/santander_kaggle/\")"
   ]
  },
  {
   "cell_type": "markdown",
   "metadata": {},
   "source": [
    "#kaggle_id = '1s0Fjnds_B7q-wmafbUhROqOYiYi9AhWy'"
   ]
  },
  {
   "cell_type": "code",
   "execution_count": 17,
   "metadata": {},
   "outputs": [],
   "source": [
    "src_path                  = \"../../../Machine_Learning/Kaggle_Competitions/santander_kaggle/src/\"\n",
    "paper_path                = \"../../../Machine_Learning/Kaggle_Competitions/santander_kaggle/paper/\"\n",
    "files_src                 = os.listdir(\"../../../Machine_Learning/Kaggle_Competitions/santander_kaggle/src\")\n",
    "files_paper               = os.listdir(\"../../../Machine_Learning/Kaggle_Competitions/santander_kaggle/paper\")\n",
    "files_submissions         = os.listdir(\"../../../Machine_Learning/Kaggle_Competitions/santander_kaggle/submissions\")"
   ]
  },
  {
   "cell_type": "code",
   "execution_count": 18,
   "metadata": {},
   "outputs": [
    {
     "name": "stdout",
     "output_type": "stream",
     "text": [
      "../../../Machine_Learning/Kaggle_Competitions/santander_kaggle/src/000_data_input.ipynb\n",
      "../../../Machine_Learning/Kaggle_Competitions/santander_kaggle/src/1000_naive_bayes_mod.ipynb\n",
      "../../../Machine_Learning/Kaggle_Competitions/santander_kaggle/src/1001_naive_bayes.ipynb\n",
      "../../../Machine_Learning/Kaggle_Competitions/santander_kaggle/src/1002_weighted_naive_bayes_kde.ipynb\n",
      "../../../Machine_Learning/Kaggle_Competitions/santander_kaggle/src/1003_naive_byes_kde.ipynb\n",
      "../../../Machine_Learning/Kaggle_Competitions/santander_kaggle/src/100_EDA.ipynb\n",
      "../../../Machine_Learning/Kaggle_Competitions/santander_kaggle/src/200_feature_importances.ipynb\n",
      "../../../Machine_Learning/Kaggle_Competitions/santander_kaggle/src/300_model.ipynb\n",
      "../../../Machine_Learning/Kaggle_Competitions/santander_kaggle/src/400_model.ipynb\n",
      "../../../Machine_Learning/Kaggle_Competitions/santander_kaggle/src/500_combine_outlier_stacking.ipynb\n",
      "../../../Machine_Learning/Kaggle_Competitions/santander_kaggle/src/500_model_smote.ipynb\n",
      "../../../Machine_Learning/Kaggle_Competitions/santander_kaggle/src/600_model_augment.ipynb\n",
      "../../../Machine_Learning/Kaggle_Competitions/santander_kaggle/src/601_model_augment.ipynb\n",
      "../../../Machine_Learning/Kaggle_Competitions/santander_kaggle/src/700_model_lgb_magic.ipynb\n",
      "../../../Machine_Learning/Kaggle_Competitions/santander_kaggle/src/900_data_augment_proof.ipynb\n",
      "../../../Machine_Learning/Kaggle_Competitions/santander_kaggle/src/blending.ipynb\n",
      "../../../Machine_Learning/Kaggle_Competitions/santander_kaggle/src/DAE.ipynb\n",
      "../../../Machine_Learning/Kaggle_Competitions/santander_kaggle/src/utils.py\n",
      "../../../Machine_Learning/Kaggle_Competitions/santander_kaggle/src/woe.py\n"
     ]
    }
   ],
   "source": [
    "for file in file_name:\n",
    "    if file not in ['.DS_Store','.ipynb_checkpoints','__pycache__','soln']:\n",
    "        file_path = src_path+file\n",
    "        addFileToFolder(file_path,parent_id=src_id)"
   ]
  },
  {
   "cell_type": "code",
   "execution_count": 20,
   "metadata": {},
   "outputs": [],
   "source": [
    "# 'data','kfolds','model_predictions','model_source','paper','src','submissions'\n",
    "# 'README.md'"
   ]
  }
 ],
 "metadata": {
  "kernelspec": {
   "display_name": "Python 3",
   "language": "python",
   "name": "python3"
  },
  "language_info": {
   "codemirror_mode": {
    "name": "ipython",
    "version": 3
   },
   "file_extension": ".py",
   "mimetype": "text/x-python",
   "name": "python",
   "nbconvert_exporter": "python",
   "pygments_lexer": "ipython3",
   "version": "3.7.3"
  }
 },
 "nbformat": 4,
 "nbformat_minor": 2
}
